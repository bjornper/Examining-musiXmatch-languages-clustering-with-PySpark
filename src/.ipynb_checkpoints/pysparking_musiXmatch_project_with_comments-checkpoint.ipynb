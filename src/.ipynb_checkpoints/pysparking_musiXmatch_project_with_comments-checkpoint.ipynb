{
 "cells": [
  {
   "cell_type": "markdown",
   "metadata": {},
   "source": [
    "pysparking_musiXmatch_project_with_comments\n",
    "\n",
    "Abstract\n",
    "\n",
    "I investigate the presence of different languages in the musiXmatch dataset and K-means [1] ability to discover these. I automate the language labeling of the 240k songs. A feature representation is chosen, the most infrequent languages are removed. I chose a measure for clustering and develop a sense for what I good clustering is in terms of this measure by employing supervised learning and training a classifier on the data. I then initialize K-means in three ways and observe how well it clusters according to language. The third way of initialization can be seen as approximating semi-supervised learning. Implementation is with python and PySpark and presented as jupyter notebook.\n"
   ]
  },
  {
   "cell_type": "markdown",
   "metadata": {},
   "source": [
    "Introduction and problem formulation\n",
    "\n",
    "The musiXmatch dataset consists of circa 240k song with lyrics in BOW-format. When examining this data set it caught my eye that, contrary to my expectation, not all words were English! I could easily pick out some Spanish, French, Italian, Swedish and Danish words and I suspected there were more. It also struck me as a very natural assumption that the lyrics of the songs would be predominately made up of words from one language. I felt it would be an interesting task to see how well a standard clustering algorithm such as K-means would pick out this particular latent structure without me telling it to. I also wanted to see if K-means would pick out more of the structure I was interested in and ignore other structures that surely must be there, especially within songs in the dominant language of English, if I managed to initialize it appropriately. So this task I set for myself: investigate the language structure of musiXmatch and how well K-means can discover it.\n"
   ]
  },
  {
   "cell_type": "code",
   "execution_count": 1,
   "metadata": {},
   "outputs": [],
   "source": [
    "## First init some useful path and get some files :\n",
    "\n",
    "# download some data from http://millionsongdataset.com/musixmatch/\n",
    "# namely train file \"mxm_dataset_train.txt\", test file \"mxm_dataset_test.txt\" and\n",
    "# \"mxm_reverse_mapping.txt\" found here http://millionsongdataset.com/sites/default/files/mxm_reverse_mapping.txt\n",
    "\n",
    "dataPath=\"c:/home/Examining-musiXmatch-languages-clustering-with-PySpark/data/\"\n",
    "\n",
    "# the repo also has this which indicates that it is auxiliary info or pre-calculated results data\n",
    "xtraDataPath=dataPath\n",
    "\n",
    "aFileTst=\"mxm_dataset_test.txt\"\n",
    "aFileTrain=\"mxm_dataset_train.txt\"\n",
    "\n"
   ]
  },
  {
   "cell_type": "code",
   "execution_count": 2,
   "metadata": {},
   "outputs": [],
   "source": [
    "import pyspark\n",
    "from pyspark.sql import SparkSession\n",
    "import os\n",
    "\n",
    "#start up\n",
    "\n",
    "conf = pyspark.SparkConf().setAll([('spark.executor.memory', '16g'),('spark.driver.memory','16g'),('spark.driver.host','127.0.0.1')])\n",
    "sc = pyspark.SparkContext(master='local', appName='myAppName',conf=conf)\n",
    "spark = SparkSession(sc)\n",
    "\n",
    "\n",
    "numPart=3*os.cpu_count()#4 #3 times num (logical) preocessors on computer,\n",
    "\n",
    "#rdd's for test and train:\n",
    "\n",
    "raw_data_train = sc.textFile(dataPath+aFileTrain,numPart)\n",
    "raw_data_test = sc.textFile(dataPath+aFileTst,numPart)\n",
    "\n"
   ]
  },
  {
   "cell_type": "markdown",
   "metadata": {},
   "source": [
    "Implementation\n",
    "\n",
    "Each song is represented with the help words from a 5k word long dictionary – the 5k most frequent words – which incidentally may mean that non-english songs are represented by fewer words. As it would be too much work and also because I don’t speak every language in the world I let a, mostly, reliable tool “googletrans” tell me language label for each of the 5k words. I wrote code to interpret the answers from the tool. Worth mentioning is that I did not, as is often done, when building NLP solutions: remove the most frequent and most infrequent words as they would still carry much information concerning language. Next step was to use the assumption mentioned before about words of a song belonging predominately to one language and let a majority vote decide the language of all the songs. After this I removed about 30 songs with infrequent language labels. I created a feature representation where each unique word present in a song gave rise to a value 1/”num unique words in song” at the corresponding index of a 5k long feature vector. Because of memory and computational restraints and because only a fraction of the 5k words ever actually show up in any given song I used a sparse feature representation. I built a multinomial logistic regression [2]  model to get an upper limit on what would be reasonable to expect from an unsupervised method like Kmeans. I measured performance in terms of adjusted mutual information (AMI). I then initialized K-means in the old fashioned random way and trained 20 times and recorded AMI. There after I did the same thing using the k-means++ initialization [3]. Finally; I found the average feature vector for each language and initialized with that then ran k-means and found the AMI.\n"
   ]
  },
  {
   "cell_type": "code",
   "execution_count": 3,
   "metadata": {},
   "outputs": [
    {
     "name": "stdout",
     "output_type": "stream",
     "text": [
      "5000\n",
      "[(1, 'i'), (2, 'the'), (3, 'you'), (4, 'to'), (5, 'and'), (6, 'a'), (7, 'me'), (8, 'it'), (9, 'not'), (10, 'in'), (11, 'my'), (12, 'is'), (13, 'of'), (14, 'your'), (15, 'that'), (16, 'do'), (17, 'on'), (18, 'are'), (19, 'we'), (20, 'am'), (21, 'will'), (22, 'all'), (23, 'for'), (24, 'no'), (25, 'be'), (26, 'have'), (27, 'love'), (28, 'so'), (29, 'know'), (30, 'this'), (31, 'but'), (32, 'with'), (33, 'what'), (34, 'just'), (35, 'when'), (36, 'like'), (37, 'now'), (38, 'que'), (39, 'time'), (40, 'can'), (41, 'come'), (42, 'de'), (43, 'there'), (44, 'go'), (45, 'up'), (46, 'oh'), (47, 'la'), (48, 'one'), (49, 'they'), (50, 'out'), (51, 'down'), (52, 'get'), (53, 'she'), (54, 'was'), (55, 'see'), (56, 'if'), (57, 'got'), (58, 'never'), (59, 'from'), (60, 'he'), (61, 'feel'), (62, 'want'), (63, 'let'), (64, 'make'), (65, 'way'), (66, 'say'), (67, 'take'), (68, 'would'), (69, 'as'), (70, 'ca'), (71, 'day'), (72, 'at'), (73, 'babi'), (74, 'away'), (75, 'life'), (76, 'yeah'), (77, 'y'), (78, 'back'), (79, 'by'), (80, 'her'), (81, 'heart'), (82, 'here'), (83, 'how'), (84, 'could'), (85, 'night'), (86, 'need'), (87, 'our'), (88, 'look'), (89, 'where'), (90, 'en'), (91, 'eye'), (92, 'thing'), (93, 'world'), (94, 'more'), (95, 'caus'), (96, 'gonna'), (97, 'die'), (98, 'right'), (99, 'been'), (100, 'tell'), (101, 'think'), (102, 'un'), (103, 'who'), (104, 'el'), (105, 'through'), (106, 'man'), (107, 'live'), (108, 'again'), (109, 'give'), (110, 'too'), (111, 'onli'), (112, 'te'), (113, 'tri'), (114, 'tu'), (115, 'or'), (116, 'whi'), (117, 'se'), (118, 'keep'), (119, 'dream'), (120, 'well'), (121, 'mind'), (122, 'an'), (123, 'wo'), (124, 'still'), (125, 'us'), (126, 'his'), (127, 'long'), (128, 'mi'), (129, 'girl'), (130, 'wanna'), (131, 'find'), (132, 'fall'), (133, 'around'), (134, 'good'), (135, 'about'), (136, 'some'), (137, 'over'), (138, 'littl'), (139, 'turn'), (140, 'hand'), (141, 'then'), (142, 'noth'), (143, 'light'), (144, 'said'), (145, 'call'), (146, 'everi'), (147, 'alway'), (148, 'were'), (149, 'did'), (150, 'into'), (151, 'e'), (152, 'wait'), (153, 'leav'), (154, 'home'), (155, 'had'), (156, 'hold'), (157, 'run'), (158, 'es'), (159, 'walk'), (160, 'ever'), (161, 'them'), (162, 'lie'), (163, 'face'), (164, 'end'), (165, 'hear'), (166, 'gone'), (167, 'head'), (168, 'believ'), (169, 'everyth'), (170, 'ya'), (171, 'has'), (172, 'cri'), (173, 'alon'), (174, 'yo'), (175, 'hey'), (176, 'their'), (177, 'le'), (178, 'someth'), (179, 'si'), (180, 'insid'), (181, 'du'), (182, 'befor'), (183, 'o'), (184, 'word'), (185, 'stay'), (186, 'place'), (187, 'much'), (188, 'chang'), (189, 'ich'), (190, 'god'), (191, 'stand'), (192, 'these'), (193, 'better'), (194, 'last'), (195, 'friend'), (196, 'soul'), (197, 'anoth'), (198, 'je'), (199, 'left'), (200, 'new'), (201, 'him'), (202, 'than'), (203, 'stop'), (204, 'tonight'), (205, 'burn'), (206, 'sun'), (207, 'off'), (208, 'por'), (209, 'lo'), (210, 'play'), (211, 'thought'), (212, 'sing'), (213, 'show'), (214, 'lost'), (215, 'peopl'), (216, 'made'), (217, 'break'), (218, 'und'), (219, 'start'), (220, 'should'), (221, 'realli'), (222, 'chorus'), (223, 'hard'), (224, 'sky'), (225, 'old'), (226, 'da'), (227, 'even'), (228, 'boy'), (229, 'pleas'), (230, 'song'), (231, 'care'), (232, 'without'), (233, 'hope'), (234, 'watch'), (235, 'pain'), (236, 'amor'), (237, 'move'), (238, 'wrong'), (239, 'put'), (240, 'free'), (241, 'gotta'), (242, 'name'), (243, 'et'), (244, 'same'), (245, 'blue'), (246, 'con'), (247, 'danc'), (248, 'talk'), (249, 'seem'), (250, 'own'), (251, 'mine'), (252, 'dark'), (253, 'na'), (254, 'far'), (255, 'tear'), (256, 'true'), (257, 'fire'), (258, 'use'), (259, 'dead'), (260, 'bring'), (261, 'fuck'), (262, 'other'), (263, 'sin'), (264, 'someon'), (265, 'myself'), (266, 'forev'), (267, 'close'), (268, 'sleep'), (269, 'rain'), (270, 'those'), (271, 'must'), (272, 'una'), (273, 'les'), (274, 'sweet'), (275, 'mean'), (276, 'fight'), (277, 'rememb'), (278, 'star'), (279, 'while'), (280, 'kiss'), (281, 'kill'), (282, 'high'), (283, 'breath'), (284, 'doe'), (285, 'yes'), (286, 'al'), (287, 'wish'), (288, 'che'), (289, 'real'), (290, 'smile'), (291, 'two'), (292, 'cold'), (293, 'lord'), (294, 'year'), (295, 'open'), (296, 'il'), (297, 'fear'), (298, 'di'), (299, 'done'), (300, 'side'), (301, 'fli'), (302, 'black'), (303, 'line'), (304, 'rock'), (305, 'blood'), (306, 'lose'), (307, 'found'), (308, 'onc'), (309, 'non'), (310, 'door'), (311, 'bad'), (312, 'ooh'), (313, 'wonder'), (314, 'ti'), (315, 'como'), (316, 'enough'), (317, 'para'), (318, 'sound'), (319, 'togeth'), (320, 'mayb'), (321, 'los'), (322, 'help'), (323, 'shine'), (324, 'mani'), (325, 'heaven'), (326, 'becaus'), (327, 'work'), (328, 'touch'), (329, 'behind'), (330, 'yourself'), (331, 'today'), (332, 'big'), (333, 'might'), (334, 'death'), (335, 'hate'), (336, 'miss'), (337, 'ride'), (338, 'street'), (339, 'came'), (340, 'ask'), (341, 'hide'), (342, 'everybodi'), (343, 'save'), (344, 'till'), (345, 'may'), (346, 'beauti'), (347, 'roll'), (348, 'sure'), (349, 'deep'), (350, 'arm'), (351, 'son'), (352, 'wind'), (353, 'bodi'), (354, 'forget'), (355, 'happi'), (356, 'understand'), (357, 'ai'), (358, 'best'), (359, 'ma'), (360, 'town'), (361, 'war'), (362, 'ah'), (363, 'listen'), (364, 'seen'), (365, 'der'), (366, 'sometim'), (367, 'lone'), (368, 'hell'), (369, 'morn'), (370, 'until'), (371, 'set'), (372, 'hurt'), (373, 'told'), (374, 'first'), (375, 'knew'), (376, 'goe'), (377, 'round'), (378, 'em'), (379, 'alright'), (380, 'music'), (381, 'sea'), (382, 'truth'), (383, 'qui'), (384, 'beat'), (385, 'nicht'), (386, 'eu'), (387, 'las'), (388, 'todo'), (389, 'pass'), (390, 'under'), (391, 'del'), (392, 'late'), (393, 'after'), (394, 'ani'), (395, 'ground'), (396, 'fool'), (397, 'pas'), (398, 'broken'), (399, 'goodby'), (400, 'das'), (401, 'des'), (402, 'kind'), (403, 'wall'), (404, 'angel'), (405, 'est'), (406, 'road'), (407, 'reason'), (408, 'dan'), (409, 'money'), (410, 'chanc'), (411, 'quiero'), (412, 'mai'), (413, 'part'), (414, 'matter'), (415, 'learn'), (416, 'els'), (417, 'rise'), (418, 'pour'), (419, 'saw'), (420, 'grow'), (421, 'ha'), (422, 'sit'), (423, 'land'), (424, 'fade'), (425, 'air'), (426, 'took'), (427, 'nobodi'), (428, 'ne'), (429, 'fill'), (430, 'easi'), (431, 'game'), (432, 'follow'), (433, 'wake'), (434, 'anyth'), (435, 'aliv'), (436, 'solo'), (437, 'water'), (438, 'heard'), (439, 'though'), (440, 'white'), (441, 'vida'), (442, 'ist'), (443, 'voic'), (444, 'woman'), (445, 'blind'), (446, 'each'), (447, 'citi'), (448, 'young'), (449, 'lay'), (450, 'moon'), (451, 'reach'), (452, 'readi'), (453, 'fine'), (454, 'soon'), (455, 'shit'), (456, 'along'), (457, 'à'), (458, 'crazi'), (459, 'past'), (460, 'red'), (461, 'room'), (462, 'such'), (463, 'ein'), (464, 'step'), (465, 'scream'), (466, 'tomorrow'), (467, 'control'), (468, 'memori'), (469, 'strong'), (470, 'hit'), (471, 'everyon'), (472, 'wast'), (473, 'não'), (474, 'men'), (475, 'earth'), (476, 's'), (477, 'upon'), (478, 'final'), (479, 'shake'), (480, 'im'), (481, 'abov'), (482, 'ja'), (483, 'moment'), (484, 'rest'), (485, 'guess'), (486, 'hous'), (487, 'born'), (488, 'somebodi'), (489, 'feet'), (490, 'mas'), (491, 'sad'), (492, 'laugh'), (493, 'esta'), (494, 'happen'), (495, 'went'), (496, 'cest'), (497, 'blow'), (498, 'noch'), (499, 'meet'), (500, 'whole'), (501, 'lover'), (502, 'drive'), (503, 'car'), (504, 'lead'), (505, 'su'), (506, 'veri'), (507, 'ni'), (508, 'promis'), (509, 'bed'), (510, 'apart'), (511, 'um'), (512, 'empti'), (513, 'shadow'), (514, 'full'), (515, 'begin'), (516, 'pull'), (517, 'child'), (518, 'pretti'), (519, 'drink'), (520, 'pray'), (521, 'king'), (522, 'cut'), (523, 't'), (524, 'power'), (525, 'gave'), (526, 'hay'), (527, 'peac'), (528, 'hang'), (529, 'next'), (530, 'ser'), (531, 'mother'), (532, 'é'), (533, 'cuando'), (534, 'between'), (535, 'pay'), (536, 'carri'), (537, 'tire'), (538, 'speak'), (539, 'lot'), (540, 'tree'), (541, 'den'), (542, 'skin'), (543, 'tout'), (544, 'til'), (545, 'slow'), (546, 'sinc'), (547, 'anymor'), (548, 'kid'), (549, 'clear'), (550, 'mich'), (551, 'jesus'), (552, 'differ'), (553, 'fast'), (554, 'becom'), (555, 'nigga'), (556, 'va'), (557, 'gun'), (558, 'nos'), (559, 'zu'), (560, 'más'), (561, 'river'), (562, 'faith'), (563, 'floor'), (564, 'cross'), (565, 'ladi'), (566, 'near'), (567, 'fun'), (568, 'ring'), (569, 'answer'), (570, 'pero'), (571, 'afraid'), (572, 'jag'), (573, 'repeat'), (574, 'great'), (575, 'stori'), (576, 'yet'), (577, 'cannot'), (578, 'hot'), (579, 'wir'), (580, 'nada'), (581, 'hour'), (582, 'summer'), (583, 'stone'), (584, 'bleed'), (585, 'sign'), (586, 'mir'), (587, 'lyric'), (588, 'children'), (589, 'trust'), (590, 'wild'), (591, 'felt'), (592, 'troubl'), (593, 'honey'), (594, 'sick'), (595, 'perfect'), (596, 'human'), (597, 'bright'), (598, 'bien'), (599, 'mama'), (600, 'dich'), (601, 'parti'), (602, 'train'), (603, 'plan'), (604, 'porqu'), (605, 'sorri'), (606, 'plus'), (607, 'hair'), (608, 'secret'), (609, 'silenc'), (610, 'tast'), (611, 'brother'), (612, 'throw'), (613, 'within'), (614, 'per'), (615, 'push'), (616, 'm'), (617, 'somewher'), (618, 'three'), (619, 'cloud'), (620, 'shall'), (621, 'vez'), (622, 'low'), (623, 'window'), (624, 'knee'), (625, 'lip'), (626, 'futur'), (627, 'dear'), (628, 'search'), (629, '2'), (630, 'sie'), (631, 'drop'), (632, 'det'), (633, 'cool'), (634, 'flame'), (635, 'outsid'), (636, 'worri'), (637, 'bout'), (638, 'goin'), (639, 'met'), (640, 'stare'), (641, 'sight'), (642, 'most'), (643, 'mon'), (644, 'voy'), (645, 'across'), (646, 'wear'), (647, 'wave'), (648, 'tus'), (649, 'pick'), (650, 'er'), (651, 'send'), (652, 'siempr'), (653, 'wie'), (654, 'bone'), (655, 'flow'), (656, 'piec'), (657, 'soy'), (658, 'uh'), (659, 'thank'), (660, 'mis'), (661, 'straight'), (662, 'blame'), (663, 'catch'), (664, 'au'), (665, 'ce'), (666, 'tight'), (667, '&'), (668, 'mile'), (669, 'holi'), (670, 'darl'), (671, 'auf'), (672, 'mouth'), (673, 'christma'), (674, 'which'), (675, 'moi'), (676, 'against'), (677, 'mad'), (678, 'both'), (679, 'share'), (680, 'caught'), (681, 'father'), (682, 'read'), (683, 'warm'), (684, 'wing'), (685, 'nunca'), (686, 'belong'), (687, 'damn'), (688, 'eat'), (689, 'win'), (690, 'sens'), (691, 'comm'), (692, 'u'), (693, 'fell'), (694, 'evil'), (695, 'dem'), (696, 'ho'), (697, 'pictur'), (698, 'second'), (699, 'nowher'), (700, 'dog'), (701, 'rule'), (702, 'une'), (703, 'mal'), (704, 'mountain'), (705, 'joy'), (706, 'mit'), (707, 'top'), (708, 'och'), (709, 'tan'), (710, 'som'), (711, 'bit'), (712, 'cover'), (713, 'point'), (714, 'thousand'), (715, 'hoy'), (716, 'n'), (717, 'gold'), (718, 'bell'), (719, 'è'), (720, 'devil'), (721, 'bird'), (722, 'sur'), (723, 'quit'), (724, 'brain'), (725, 'return'), (726, 'build'), (727, 'kick'), (728, 'rose'), (729, 'bitch'), (730, 'babe'), (731, 'guy'), (732, 'whoa'), (733, 'shame'), (734, 'mein'), (735, 'space'), (736, 'whisper'), (737, 'tiempo'), (738, 'cos'), (739, 'write'), (740, 'dir'), (741, 'tengo'), (742, 'count'), (743, 'slip'), (744, 'ver'), (745, 'desir'), (746, 'sei'), (747, 'nice'), (748, 'weak'), (749, 'rais'), (750, 'jai'), (751, 'ocean'), (752, 'number'), (753, 'drown'), (754, 'spirit'), (755, 'scare'), (756, 'strang'), (757, 'ik'), (758, 'half'), (759, 'known'), (760, 'pretend'), (761, 'worth'), (762, 'someday'), (763, 'act'), (764, 'beyond'), (765, 'fair'), (766, 'million'), (767, 'finger'), (768, 'question'), (769, 'doubt'), (770, 'meant'), (771, 'smoke'), (772, 'comin'), (773, 'flesh'), (774, 'dawn'), (775, 'daddi'), (776, 'storm'), (777, 'hole'), (778, 'color'), (779, 'jump'), (780, 'remain'), (781, 'mundo'), (782, 'etern'), (783, 'nothin'), (784, 'buy'), (785, 'nur'), (786, 'anyon'), (787, 'dress'), (788, '1'), (789, 'minut'), (790, 'dont'), (791, 'pra'), (792, 'snow'), (793, 'd'), (794, 'dig'), (795, 'estoy'), (796, 'forc'), (797, 'spend'), (798, 'shot'), (799, 'everyday'), (800, 'puedo'), (801, 'tú'), (802, 'chain'), (803, 'dri'), (804, 'grace'), (805, 'green'), (806, 'glori'), (807, 'doch'), (808, 'everywher'), (809, 'freedom'), (810, 'realiz'), (811, 'lock'), (812, 'pride'), (813, 'whatev'), (814, 'feed'), (815, 'mistak'), (816, 'vers'), (817, 'fate'), (818, 'meu'), (819, 'escap'), (820, 'wash'), (821, 'mess'), (822, 'você'), (823, 'sand'), (824, 'front'), (825, 'forgiv'), (826, 'vi'), (827, 'winter'), (828, 'tanto'), (829, 'magic'), (830, 'flower'), (831, 'pa'), (832, 'closer'), (833, 'safe'), (834, 'wenn'), (835, 'sol'), (836, 'bless'), (837, 'suffer'), (838, 'longer'), (839, 'dein'), (840, 'hello'), (841, 'san'), (842, 'grave'), (843, 'alreadi'), (844, 'yesterday'), (845, 'wide'), (846, 'radio'), (847, 'sorrow'), (848, 'ten'), (849, 'tien'), (850, 'phone'), (851, 'crawl'), (852, 'surviv'), (853, 'ay'), (854, 'tie'), (855, 'exist'), (856, 'anyway'), (857, 'io'), (858, 'spin'), (859, 'insan'), (860, 'nous'), (861, 'slowli'), (862, 'dond'), (863, 'ear'), (864, 'crowd'), (865, 'clean'), (866, 'natur'), (867, 'knock'), (868, 'four'), (869, 'poor'), (870, 'loud'), (871, 'shoe'), (872, 'bar'), (873, 'está'), (874, 'ass'), (875, 'lovin'), (876, 'higher'), (877, 'race'), (878, 'silent'), (879, 'lift'), (880, 'destroy'), (881, 'cuz'), (882, 'soft'), (883, 'paint'), (884, 'mar'), (885, 'dirti'), (886, 'check'), (887, 'ta'), (888, 'held'), (889, 'vie'), (890, 'shout'), (891, 'sail'), (892, 'twist'), (893, 'guitar'), (894, 'simpl'), (895, 'quand'), (896, 'sa'), (897, 'ei'), (898, 'deni'), (899, 'fail'), (900, 'van'), (901, 'famili'), (902, 'vision'), (903, 'toi'), (904, 'lookin'), (905, 'track'), (906, 'broke'), (907, 'dia'), (908, 'state'), (909, 'welcom'), (910, 'ghost'), (911, 'almost'), (912, 'shut'), (913, 'entr'), (914, 'somehow'), (915, 'glass'), (916, 'yea'), (917, 'gent'), (918, 'choos'), (919, 'für'), (920, 'bin'), (921, 'glad'), (922, 'shoot'), (923, 'ell'), (924, 'small'), (925, 'hill'), (926, 'wine'), (927, 'treat'), (928, 'dos'), (929, 'stranger'), (930, 'regret'), (931, 'refrain'), (932, 'corazón'), (933, 'machin'), (934, 'problem'), (935, 'feelin'), (936, 'sister'), (937, 'era'), (938, 'steal'), (939, 'endless'), (940, 'vai'), (941, 'awak'), (942, 'key'), (943, 'grand'), (944, 'cada'), (945, 'age'), (946, 'bridg'), (947, 'dust'), (948, 'wit'), (949, 'merci'), (950, 'wheel'), (951, 'ere'), (952, 'crack'), (953, 'taken'), (954, 'prais'), (955, 'heal'), (956, 'queen'), (957, 'mirror'), (958, 'von'), (959, 'corner'), (960, 'ba'), (961, 'ago'), (962, 'buri'), (963, 'book'), (964, 'ahora'), (965, 'climb'), (966, 'quando'), (967, 'okay'), (968, 'cloth'), (969, 'band'), (970, 'school'), (971, 'stick'), (972, 'är'), (973, 'circl'), (974, 'ou'), (975, 'tv'), (976, 'don'), (977, 'strength'), (978, 'og'), (979, 'five'), (980, 'countri'), (981, 'beneath'), (982, 'sunshin'), (983, 'sabe'), (984, 'alma'), (985, 'ice'), (986, 'ça'), (987, 'bound'), (988, 'less'), (989, 'sell'), (990, 'tongu'), (991, 'path'), (992, 'cielo'), (993, 'travel'), (994, 'hasta'), (995, 'hat'), (996, 'rather'), (997, 'heat'), (998, 'innoc'), (999, 'confus'), (1000, 'cosa'), (1001, 'golden'), (1002, 'ohh'), (1003, 'mari'), (1004, 'singl'), (1005, 'ahead'), (1006, 'bye'), (1007, 'silver'), (1008, 'tryin'), (1009, 'doo'), (1010, 'mes'), (1011, 'sai'), (1012, 'chase'), (1013, 'pued'), (1014, 'più'), (1015, 'few'), (1016, 'sein'), (1017, 'scene'), (1018, 'smell'), (1019, 'funni'), (1020, 'enemi'), (1021, 'swear'), (1022, 'på'), (1023, 'ball'), (1024, 'beg'), (1025, 'sind'), (1026, 'x2'), (1027, 'prayer'), (1028, 'wound'), (1029, 'otra'), (1030, 'ton'), (1031, 'disappear'), (1032, 'besid'), (1033, 'hace'), (1034, 'toda'), (1035, 'ignor'), (1036, 'mr'), (1037, 'yall'), (1038, 'style'), (1039, 'ihr'), (1040, 'brought'), (1041, 'given'), (1042, 'quiet'), (1043, 'rage'), (1044, 'mano'), (1045, 'realiti'), (1046, 'sink'), (1047, '3'), (1048, 'quier'), (1049, 'spread'), (1050, 'crime'), (1051, 'vain'), (1052, 'nadi'), (1053, 'fallen'), (1054, 'self'), (1055, 'decid'), (1056, 'ella'), (1057, 'c'), (1058, 'fue'), (1059, 'imagin'), (1060, 'hier'), (1061, 'stuck'), (1062, 'view'), (1063, 'vas'), (1064, 'kept'), (1065, 'demon'), (1066, 'sui'), (1067, 'busi'), (1068, 'ok'), (1069, 'record'), (1070, 'law'), (1071, 'choic'), (1072, 'har'), (1073, 'fit'), (1074, 'remind'), (1075, 'emot'), (1076, 'field'), (1077, 'crash'), (1078, 'suppos'), (1079, 'sen'), (1080, 'cmon'), (1081, 'dentro'), (1082, 'mehr'), (1083, 'danger'), (1084, 'sich'), (1085, 'letter'), (1086, 'midnight'), (1087, 'com'), (1088, 'kein'), (1089, 'nation'), (1090, 'edg'), (1091, 'surpris'), (1092, 'rien'), (1093, 'murder'), (1094, 'deal'), (1095, 'complet'), (1096, 'loos'), (1097, 'price'), (1098, 'instrument'), (1099, 'luck'), (1100, 'rip'), (1101, 'drift'), (1102, 'poison'), (1103, 'battl'), (1104, 'livin'), (1105, 'gimm'), (1106, 'gettin'), (1107, 'haunt'), (1108, 'sex'), (1109, 'proud'), (1110, 're'), (1111, 'heavi'), (1112, 'guid'), (1113, 'nie'), (1114, 'drag'), (1115, 'middl'), (1116, 'bare'), (1117, 'dare'), (1118, 'bang'), (1119, 'ojo'), (1120, 'pure'), (1121, 'embrac'), (1122, 'aus'), (1123, 'suck'), (1124, 'stupid'), (1125, 'fake'), (1126, 'week'), (1127, 'news'), (1128, 'tes'), (1129, 'master'), (1130, 'float'), (1131, 'satisfi'), (1132, 'sent'), (1133, 'christ'), (1134, 'fait'), (1135, 'scar'), (1136, 'bear'), (1137, 'dime'), (1138, 'quick'), (1139, 'het'), (1140, 'poi'), (1141, 'swing'), (1142, 'below'), (1143, 'prove'), (1144, 'figur'), (1145, 'diamond'), (1146, 'none'), (1147, 'instead'), (1148, 'pleasur'), (1149, 'curs'), (1150, 'rich'), (1151, 'cat'), (1152, 'spent'), (1153, 'seek'), (1154, 'paper'), (1155, 'mysteri'), (1156, 'passion'), (1157, 'brand'), (1158, 'siento'), (1159, 'bomb'), (1160, 'luz'), (1161, 'bitter'), (1162, 'tender'), (1163, 'fact'), (1164, 'job'), (1165, 'qué'), (1166, 'bet'), (1167, 'oooh'), (1168, 'sempr'), (1169, 'cast'), (1170, 'sono'), (1171, 'trip'), (1172, 'pack'), (1173, 'explain'), (1174, 'talkin'), (1175, 'lucki'), (1176, 'ci'), (1177, 'l'), (1178, 'eso'), (1179, 'special'), (1180, 'mark'), (1181, 'form'), (1182, 'shoulder'), (1183, 'warn'), (1184, 'creat'), (1185, 'seven'), (1186, 'ship'), (1187, 'bist'), (1188, 'miseri'), (1189, 'sunday'), (1190, 'six'), (1191, 'quien'), (1192, 'tune'), (1193, 'wrap'), (1194, 'muy'), (1195, 'pop'), (1196, 'surround'), (1197, 'doin'), (1198, 'hero'), (1199, 'gate'), (1200, 'comfort'), (1201, 'han'), (1202, '2x'), (1203, 'rush'), (1204, 'drug'), (1205, 'fuckin'), (1206, 'mejor'), (1207, 'vivir'), (1208, 'least'), (1209, 'short'), (1210, 'sé'), (1211, 'dann'), (1212, 'cruel'), (1213, 'par'), (1214, 'rhyme'), (1215, 'written'), (1216, 'swallow'), (1217, 'wander'), (1218, 'reflect'), (1219, 'dice'), (1220, 'aunqu'), (1221, 'tide'), (1222, 'join'), (1223, 'bottl'), (1224, 'steel'), (1225, 'paradis'), (1226, 'mia'), (1227, 'día'), (1228, 'cant'), (1229, 'auch'), (1230, 'wife'), (1231, 'shore'), (1232, 'leg'), (1233, 'somethin'), (1234, 'draw'), (1235, 'slave'), (1236, 'march'), (1237, 'jour'), (1238, 'algo'), (1239, 'beso'), (1240, 'immer'), (1241, 'swim'), (1242, 'built'), (1243, 'tempo'), (1244, 'women'), (1245, 'corazon'), (1246, 'om'), (1247, 'fix'), (1248, 'trap'), (1249, 'torn'), (1250, 'vein'), (1251, 'estar'), (1252, 'releas'), (1253, 'hors'), (1254, 'casa'), (1255, 'spell'), (1256, 'glow'), (1257, 'grab'), (1258, 'denn'), (1259, 'drum'), (1260, 'bite'), (1261, 'brown'), (1262, 'won'), (1263, 'i’m'), (1264, 'sugar'), (1265, 'forgotten'), (1266, 'stronger'), (1267, 'rhythm'), (1268, 'victim'), (1269, 'messag'), (1270, 'later'), (1271, 'person'), (1272, 'darlin'), (1273, 'así'), (1274, 'poco'), (1275, 'avec'), (1276, 'huh'), (1277, 'dat'), (1278, 'dio'), (1279, 'uma'), (1280, 'sudden'), (1281, 'stood'), (1282, 'att'), (1283, 'hundr'), (1284, 'kann'), (1285, 'runnin'), (1286, 'sólo'), (1287, 'season'), (1288, 'sueño'), (1289, 'surrend'), (1290, 'bore'), (1291, 'vou'), (1292, 'crush'), (1293, 'histori'), (1294, 'wont'), (1295, 'luna'), (1296, 'ourselv'), (1297, 'verdad'), (1298, 'weight'), (1299, 'mí'), (1300, '4'), (1301, 'lust'), (1302, 'dolor'), (1303, 'park'), (1304, 'expect'), (1305, 'só'), (1306, 'speed'), (1307, 'shade'), (1308, 'calm'), (1309, 'bow'), (1310, 'bend'), (1311, 'mig'), (1312, 'strike'), (1313, 'thrill'), (1314, 'anim'), (1315, 'aquí'), (1316, 'leben'), (1317, 'thunder'), (1318, 'soldier'), (1319, 'vous'), (1320, 'hacer'), (1321, 'west'), (1322, 'destini'), (1323, 'spit'), (1324, 'ran'), (1325, 'twice'), (1326, 'drunk'), (1327, 'page'), (1328, 'med'), (1329, 'desert'), (1330, 'block'), (1331, 'tall'), (1332, 'anywher'), (1333, 'distanc'), (1334, 'mio'), (1335, 'spring'), (1336, 'gather'), (1337, 'g'), (1338, 'temp'), (1339, 'foi'), (1340, 'cuerpo'), (1341, 'dollar'), (1342, 'echo'), (1343, 'knife'), (1344, 'melt'), (1345, 'mujer'), (1346, 'anybodi'), (1347, 'otro'), (1348, 'aqui'), (1349, 'så'), (1350, 'grey'), (1351, 'asleep'), (1352, 'gentl'), (1353, 'sem'), (1354, 'direct'), (1355, 'load'), (1356, 'divin'), (1357, 'earli'), (1358, 'toward'), (1359, 'kun'), (1360, 'weather'), (1361, 'ash'), (1362, 've'), (1363, 'os'), (1364, 'seed'), (1365, 'highway'), (1366, 'harder'), (1367, 'sus'), (1368, 'boom'), (1369, 'esa'), (1370, 'attack'), (1371, 'action'), (1372, 'thee'), (1373, 'fin'), (1374, 'quon'), (1375, 'art'), (1376, 'pie'), (1377, 'club'), (1378, 'wird'), (1379, 'contigo'), (1380, 'kan'), (1381, 'rap'), (1382, 'case'), (1383, 'hab'), (1384, 'tous'), (1385, 'thinkin'), (1386, 'metal'), (1387, 'underneath'), (1388, 'breez'), (1389, 'teeth'), (1390, 'respect'), (1391, 'outta'), (1392, 'john'), (1393, 'neck'), (1394, 'precious'), (1395, 'nine'), (1396, 'idea'), (1397, 'rainbow'), (1398, 'thi'), (1399, 'lieb'), (1400, 'laid'), (1401, 'offer'), (1402, 'gut'), (1403, 'saber'), (1404, 'een'), (1405, 'nois'), (1406, 'begun'), (1407, 'resist'), (1408, 'garden'), (1409, 'sigh'), (1410, 'bag'), (1411, 'disguis'), (1412, 'noon'), (1413, 'quem'), (1414, 'string'), (1415, 'colour'), (1416, 'nu'), (1417, 'ooo'), (1418, 'gift'), (1419, 'aint'), (1420, 'shape'), (1421, 'york'), (1422, 'jetzt'), (1423, 'schon'), (1424, 'teach'), (1425, 'don’t'), (1426, 'test'), (1427, 'lado'), (1428, 'arriv'), (1429, 'amar'), (1430, 'diseas'), (1431, 'sold'), (1432, 'clock'), (1433, 'flash'), (1434, 'youth'), (1435, 'box'), (1436, 'rot'), (1437, 'lugar'), (1438, 'mighti'), (1439, 'certain'), (1440, 'protect'), (1441, 'mond'), (1442, 'ruin'), (1443, 'romanc'), (1444, 'vamo'), (1445, 'sweat'), (1446, 'fantasi'), (1447, 'vien'), (1448, 'kinda'), (1449, 'nacht'), (1450, 'deserv'), (1451, 'piel'), (1452, 'jeg'), (1453, 'hora'), (1454, 'univers'), (1455, 'desper'), (1456, 'ach'), (1457, 'hall'), (1458, 'anger'), (1459, 'beast'), (1460, 'stuff'), (1461, 'jack'), (1462, 'tabl'), (1463, 'punk'), (1464, 'movi'), (1465, 'tudo'), (1466, 'niggaz'), (1467, 'feliz'), (1468, 'mucho'), (1469, 'nightmar'), (1470, 'doctor'), (1471, 'freak'), (1472, 'marri'), (1473, 'crown'), (1474, 'serv'), (1475, 'satan'), (1476, 'hallelujah'), (1477, 'amigo'), (1478, 'trace'), (1479, 'main'), (1480, 'nem'), (1481, 'makin'), (1482, 'prison'), (1483, 'moonlight'), (1484, 'voz'), (1485, 'thin'), (1486, 'deeper'), (1487, 'appear'), (1488, 'amaz'), (1489, 'bought'), (1490, 'weep'), (1491, 'walkin'), (1492, 'ant'), (1493, 'même'), (1494, 'chi'), (1495, 'voi'), (1496, 'hungri'), (1497, 'wire'), (1498, 'pocket'), (1499, 'jamai'), (1500, 'note'), (1501, 'south'), (1502, 'eh'), (1503, 'woke'), (1504, 'momento'), (1505, 'illus'), (1506, 'nail'), (1507, 'junto'), (1508, 'paid'), (1509, 'bis'), (1510, 'liar'), (1511, 'bottom'), (1512, 'plain'), (1513, 'ill'), (1514, 'notic'), (1515, 'melodi'), (1516, 'alla'), (1517, 'camino'), (1518, 'destruct'), (1519, 'daughter'), (1520, 'eas'), (1521, 'fat'), (1522, 'whenev'), (1523, 'ador'), (1524, 'church'), (1525, 'bill'), (1526, 'card'), (1527, 'cours'), (1528, 'nake'), (1529, 'sacrific'), (1530, 'zeit'), (1531, 'system'), (1532, 'pensar'), (1533, 'order'), (1534, 'stage'), (1535, 'celebr'), (1536, 'hip'), (1537, 'total'), (1538, 'welt'), (1539, 'sera'), (1540, 'fist'), (1541, 'dit'), (1542, 'wors'), (1543, 'suicid'), (1544, 'dove'), (1545, 'bullet'), (1546, 'senza'), (1547, 'johnni'), (1548, 'gain'), (1549, 'quero'), (1550, 'grown'), (1551, 'wherev'), (1552, 'slide'), (1553, 'minha'), (1554, 'fa'), (1555, 'folk'), (1556, 'nach'), (1557, 'hurri'), (1558, 'lang'), (1559, 'seu'), (1560, 'igual'), (1561, 'vill'), (1562, 'uno'), (1563, 'kingdom'), (1564, 'trick'), (1565, 'wrote'), (1566, 'encor'), (1567, 'tem'), (1568, 'choke'), (1569, 'll'), (1570, 'dame'), (1571, 'boat'), (1572, 'tough'), (1573, 'sang'), (1574, 'ese'), (1575, 'beer'), (1576, 'eras'), (1577, 'cup'), (1578, 'brave'), (1579, 'reveal'), (1580, 'distant'), (1581, 'trist'), (1582, 'worst'), (1583, 'wieder'), (1584, 'grass'), (1585, 'frozen'), (1586, 'ahh'), (1587, 'dass'), (1588, 'faster'), (1589, 'tard'), (1590, 'sua'), (1591, 'plane'), (1592, 'saturday'), (1593, 'woah'), (1594, 'taught'), (1595, 'generat'), (1596, 'viel'), (1597, 'cryin'), (1598, 'it’'), (1599, 'movin'), (1600, 'store'), (1601, 'shatter'), (1602, 'stream'), (1603, 'wood'), (1604, 'ganz'), (1605, 'sentir'), (1606, 'pressur'), (1607, 'wa'), (1608, 'sont'), (1609, 'charm'), (1610, 'bloodi'), (1611, 'yellow'), (1612, 'mo'), (1613, 'planet'), (1614, 'joke'), (1615, 'pound'), (1616, 'vivo'), (1617, 'struggl'), (1618, 'petit'), (1619, 'dumb'), (1620, 'suit'), (1621, 'present'), (1622, 'revolut'), (1623, 'nuestro'), (1624, 'dirt'), (1625, 'gon'), (1626, 'hollow'), (1627, 'será'), (1628, 'vece'), (1629, 'vos'), (1630, 'wick'), (1631, 'reign'), (1632, 'miracl'), (1633, 'rollin'), (1634, 'stain'), (1635, 'shelter'), (1636, 'lifetim'), (1637, 'claim'), (1638, 'accept'), (1639, 'ven'), (1640, 'judg'), (1641, 'av'), (1642, 'tale'), (1643, 'desd'), (1644, 'enter'), (1645, 'fault'), (1646, 'sale'), (1647, 'mim'), (1648, 'betray'), (1649, 'hast'), (1650, 'violenc'), (1651, 'chill'), (1652, 'lui'), (1653, 'recuerdo'), (1654, 'terror'), (1655, 'settl'), (1656, 'wet'), (1657, 'pena'), (1658, 'foot'), (1659, 'toujour'), (1660, 'unknown'), (1661, 'miedo'), (1662, 'lonesom'), (1663, 'nah'), (1664, 'excus'), (1665, 'rockin'), (1666, 'santa'), (1667, 'amo'), (1668, 'fever'), (1669, 'où'), (1670, 'doubl'), (1671, 'dire'), (1672, 'america'), (1673, 'var'), (1674, 'asi'), (1675, 'hidden'), (1676, 'b'), (1677, 'electr'), (1678, 'mass'), (1679, 'trop'), (1680, 'j'), (1681, 'já'), (1682, 'attent'), (1683, 'wise'), (1684, 'volver'), (1685, 'laughter'), (1686, 'fame'), (1687, 'groov'), (1688, 'mom'), (1689, 'niet'), (1690, 'mmm'), (1691, 'för'), (1692, 'waitin'), (1693, 'prepar'), (1694, 'esto'), (1695, 'due'), (1696, 'noi'), (1697, 'cure'), (1698, 'began'), (1699, 'x'), (1700, 'lesson'), (1701, 'là'), (1702, 'hook'), (1703, 'fish'), (1704, 'east'), (1705, 'hoe'), (1706, 'cop'), (1707, 'sou'), (1708, 'seat'), (1709, 'whose'), (1710, 'forgot'), (1711, 'bother'), (1712, 'chest'), (1713, 'situat'), (1714, 'candl'), (1715, 'cash'), (1716, 'valley'), (1717, 'quil'), (1718, 'further'), (1719, 'unit'), (1720, 'mira'), (1721, 'aim'), (1722, 'journey'), (1723, 'cell'), (1724, 'ao'), (1725, 'gray'), (1726, 'vita'), (1727, 'everytim'), (1728, 'tag'), (1729, 'throat'), (1730, 'heartach'), (1731, 'conmigo'), (1732, 'tortur'), (1733, 'mot'), (1734, 'cara'), (1735, 'imag'), (1736, 'min'), (1737, 'nuit'), (1738, 'birth'), (1739, 'woo'), (1740, 'refus'), (1741, 'sword'), (1742, 'fortun'), (1743, 'ces'), (1744, 'ima'), (1745, 'older'), (1746, 'spoken'), (1747, 'chose'), (1748, 'motion'), (1749, 'motherfuck'), (1750, 'fals'), (1751, 'enjoy'), (1752, 'oo'), (1753, 'fort'), (1754, 'tutto'), (1755, 'creep'), (1756, 'sayin'), (1757, 'trade'), (1758, 'hoo'), (1759, 'monkey'), (1760, 'food'), (1761, 'worship'), (1762, 'nel'), (1763, 'ancient'), (1764, 'confess'), (1765, 'coro'), (1766, 'sobr'), (1767, 'deja'), (1768, 'stole'), (1769, 'forward'), (1770, 'tua'), (1771, 'lamour'), (1772, 'fallin'), (1773, 'favorit'), (1774, 'faut'), (1775, 'toe'), (1776, 'toy'), (1777, 'nose'), (1778, 'favor'), (1779, 'american'), (1780, 'class'), (1781, 'cigarett'), (1782, 'maria'), (1783, 'intent'), (1784, 'pill'), (1785, 'poder'), (1786, 'spill'), (1787, 'cost'), (1788, 'shed'), (1789, 'po'), (1790, 'probabl'), (1791, 'among'), (1792, 'tanta'), (1793, 'dar'), (1794, 'clown'), (1795, 'consum'), (1796, 'saint'), (1797, 'fai'), (1798, 'mä'), (1799, 'connect'), (1800, 'chao'), (1801, 'mix'), (1802, 'dun'), (1803, 'goodnight'), (1804, 'amour'), (1805, 'sola'), (1806, 'numb'), (1807, 'viento'), (1808, 'nest'), (1809, 'salvat'), (1810, 'island'), (1811, 'wipe'), (1812, 'await'), (1813, 'spot'), (1814, 'f'), (1815, 'merri'), (1816, 'hombr'), (1817, 'chair'), (1818, 'press'), (1819, 'divid'), (1820, 'bust'), (1821, 'bem'), (1822, 'compani'), (1823, 'lick'), (1824, 'boot'), (1825, 'loneli'), (1826, 'constant'), (1827, 'dad'), (1828, 'bei'), (1829, 'cage'), (1830, 'mañana'), (1831, 'flight'), (1832, 'cè'), (1833, 'armi'), (1834, 'mood'), (1835, 'killer'), (1836, 'darkest'), (1837, 'drain'), (1838, 'underground'), (1839, 'polic'), (1840, 'querer'), (1841, 'fresh'), (1842, 'boogi'), (1843, 'lean'), (1844, 'pale'), (1845, 'niin'), (1846, 'vor'), (1847, 'ad'), (1848, 'explod'), (1849, 'sexi'), (1850, 'rape'), (1851, 'dick'), (1852, 'geht'), (1853, 'recal'), (1854, 'exact'), (1855, 'freez'), (1856, 'savior'), (1857, 'piti'), (1858, 'separ'), (1859, 'except'), (1860, 'candi'), (1861, 'frame'), (1862, 'honest'), (1863, 'religion'), (1864, 'ses'), (1865, 'vem'), (1866, 'yeux'), (1867, 'hunger'), (1868, 'station'), (1869, 'although'), (1870, 'bus'), (1871, 'onto'), (1872, 'pum'), (1873, 'aux'), (1874, 'trail'), (1875, 'mil'), (1876, 'boca'), (1877, 'leur'), (1878, 'spark'), (1879, 'ga'), (1880, 'peu'), (1881, 'decay'), (1882, 'bass'), (1883, 'demand'), (1884, 'command'), (1885, 'beach'), (1886, 'destin'), (1887, 'shi'), (1888, 'greed'), (1889, 'lack'), (1890, 'ela'), (1891, 'via'), (1892, 'weg'), (1893, 'vert'), (1894, 'fui'), (1895, 'whore'), (1896, '5'), (1897, 'paso'), (1898, 'importa'), (1899, 'sat'), (1900, 'palabra'), (1901, 'monster'), (1902, 'stumbl'), (1903, 'komm'), (1904, 'quiera'), (1905, 'roam'), (1906, 'threw'), (1907, 'screen'), (1908, 'ancora'), (1909, 'thou'), (1910, 'harm'), (1911, 'gli'), (1912, 'date'), (1913, 'cheap'), (1914, 'north'), (1915, 'aw'), (1916, 'r'), (1917, 'root'), (1918, 'led'), (1919, 'rough'), (1920, 'loco'), (1921, 'energi'), (1922, 'ment'), (1923, 'despair'), (1924, 'gaze'), (1925, 'guilti'), (1926, 'hatr'), (1927, 'queda'), (1928, 'joe'), (1929, 'asid'), (1930, 'addict'), (1931, 'seal'), (1932, 'super'), (1933, 'iron'), (1934, 'wisdom'), (1935, 'scratch'), (1936, 'papa'), (1937, 'smash'), (1938, 'throne'), (1939, 'deceiv'), (1940, 'forth'), (1941, 'coffe'), (1942, 'ir'), (1943, 'ves'), (1944, 'weari'), (1945, 'posit'), (1946, 'jah'), (1947, 'ugli'), (1948, 'shop'), (1949, 'hood'), (1950, 'shell'), (1951, 'horizon'), (1952, 'w'), (1953, 'falta'), (1954, 'becam'), (1955, 'piss'), (1956, 'blade'), (1957, 'playin'), (1958, 'grew'), (1959, 'often'), (1960, 'ye'), (1961, 'gal'), (1962, 'victori'), (1963, 'receiv'), (1964, 'takin'), (1965, 'lightn'), (1966, 'allow'), (1967, 'mornin'), (1968, 'hammer'), (1969, 'lejo'), (1970, 'telephon'), (1971, 'cett'), (1972, 'admit'), (1973, 'rat'), (1974, 'nuevo'), (1975, 'flag'), (1976, 'truli'), (1977, 'doom'), (1978, 'dis'), (1979, 'loss'), (1980, 'sacr'), (1981, 'limit'), (1982, 'pasa'), (1983, 'bigger'), (1984, 'afternoon'), (1985, 'fed'), (1986, 'engin'), (1987, 'veux'), (1988, '–'), (1989, 'foolish'), (1990, 'jean'), (1991, 'shock'), (1992, 'breed'), (1993, 'greatest'), (1994, 'mental'), (1995, 'soledad'), (1996, 'mismo'), (1997, 'tal'), (1998, 'angri'), (1999, 'ayer'), (2000, 'finish'), (2001, 'row'), (2002, 'vuelv'), (2003, 'convers'), (2004, 'plastic'), (2005, 'grip'), (2006, 'creation'), (2007, 'snake'), (2008, 'regard'), (2009, 'tick'), (2010, 'fan'), (2011, 'lit'), (2012, 'holiday'), (2013, 'somo'), (2014, 'int'), (2015, 'sue'), (2016, 'steadi'), (2017, 'tierra'), (2018, 'coat'), (2019, 'funki'), (2020, 'cheat'), (2021, 'sort'), (2022, 'drip'), (2023, 'teu'), (2024, 'zum'), (2025, 'abus'), (2026, 'possess'), (2027, 'undon'), (2028, 'llorar'), (2029, 'vocal'), (2030, 'dj'), (2031, 'hunt'), (2032, 'month'), (2033, 'possibl'), (2034, 'design'), (2035, 'depend'), (2036, 'sole'), (2037, 'daylight'), (2038, 'decis'), (2039, 'maar'), (2040, 'sous'), (2041, 'morir'), (2042, 'assim'), (2043, 'treasur'), (2044, 'california'), (2045, 'mare'), (2046, 'olvidar'), (2047, 'strip'), (2048, 'hum'), (2049, 'calor'), (2050, 'trembl'), (2051, 'weiß'), (2052, 'durch'), (2053, 'invit'), (2054, 'rope'), (2055, 'flood'), (2056, 'ticket'), (2057, 'ohn'), (2058, 'crew'), (2059, 'spoke'), (2060, 'sheet'), (2061, 'fuego'), (2062, 'cantar'), (2063, 'wreck'), (2064, 'cowboy'), (2065, 'allein'), (2066, 'needl'), (2067, 'decir'), (2068, 'common'), (2069, 'lung'), (2070, 'monday'), (2071, 'friday'), (2072, 'girlfriend'), (2073, 'piano'), (2074, 'mission'), (2075, 'veo'), (2076, 'destino'), (2077, 'perder'), (2078, 'rescu'), (2079, 'lazi'), (2080, 'coupl'), (2081, 'hi'), (2082, 'coeur'), (2083, 'p'), (2084, 'eight'), (2085, 'hai'), (2086, 'andar'), (2087, 'split'), (2088, 'quisiera'), (2089, 'mortal'), (2090, 'guard'), (2091, 'seul'), (2092, 'societi'), (2093, 'hotel'), (2094, 'easili'), (2095, 'anch'), (2096, 'fashion'), (2097, 'heel'), (2098, 'creatur'), (2099, 'sittin'), (2100, 'defeat'), (2101, 'ben'), (2102, 'excit'), (2103, 'pari'), (2104, 'hung'), (2105, 'ett'), (2106, 'lake'), (2107, 'tower'), (2108, 'dive'), (2109, 'estrella'), (2110, 'silencio'), (2111, 'curtain'), (2112, 'gas'), (2113, 'restless'), (2114, 'canto'), (2115, 'ond'), (2116, 'dum'), (2117, 'grant'), (2118, 'unless'), (2119, 'cheek'), (2120, 'type'), (2121, 'crumbl'), (2122, 'hail'), (2123, 'chosen'), (2124, 'sunni'), (2125, 'handl'), (2126, 'lá'), (2127, 'lion'), (2128, 'burnin'), (2129, 'disco'), (2130, 'bank'), (2131, 'match'), (2132, 'deux'), (2133, 'twenti'), (2134, 'aris'), (2135, 'replac'), (2136, 'heut'), (2137, 'you’r'), (2138, 'score'), (2139, 'mentira'), (2140, 'bon'), (2141, 'continu'), (2142, 'stretch'), (2143, 'inspir'), (2144, 'ol'), (2145, 'din'), (2146, 'forest'), (2147, 'callin'), (2148, 'questa'), (2149, 'coast'), (2150, 'mort'), (2151, 'questo'), (2152, 'belief'), (2153, 'tuo'), (2154, 'sunlight'), (2155, 'plant'), (2156, 'sever'), (2157, 'whip'), (2158, 'ray'), (2159, 'oder'), (2160, 'descend'), (2161, 'così'), (2162, 'simpli'), (2163, 'singin'), (2164, 'mirada'), (2165, 'mankind'), (2166, 'violent'), (2167, 'lane'), (2168, 'void'), (2169, 'hop'), (2170, 'weil'), (2171, 'mondo'), (2172, 'sunset'), (2173, 'thru'), (2174, 'silli'), (2175, 'corps'), (2176, 'lass'), (2177, 'behold'), (2178, 'normal'), (2179, 'agre'), (2180, 'abandon'), (2181, 'weapon'), (2182, 'wed'), (2183, 'bella'), (2184, 'reveng'), (2185, 'tini'), (2186, 'justic'), (2187, 'weekend'), (2188, 'meno'), (2189, 'mic'), (2190, 'nor'), (2191, 'bloom'), (2192, 'sam'), (2193, 'affair'), (2194, 'leader'), (2195, 'aber'), (2196, 'aah'), (2197, 'nerv'), (2198, '10'), (2199, 'ohhh'), (2200, 'hush'), (2201, 'historia'), (2202, 'op'), (2203, 'caress'), (2204, 'either'), (2205, 'discov'), (2206, 'leavin'), (2207, 'helpless'), (2208, 'ghetto'), (2209, 'bread'), (2210, 'dancin'), (2211, 'x4'), (2212, 'tant'), (2213, 'hmm'), (2214, 'momma'), (2215, 'x3'), (2216, 'gibt'), (2217, 'tão'), (2218, 'vive'), (2219, 'pace'), (2220, 'gusta'), (2221, 'relax'), (2222, 'jam'), (2223, 'paz'), (2224, 'brick'), (2225, 'digo'), (2226, 'dei'), (2227, 'complain'), (2228, 'burden'), (2229, 'sunris'), (2230, 'also'), (2231, 'linger'), (2232, 'jungl'), (2233, 'hopeless'), (2234, 'abl'), (2235, 'agua'), (2236, 'bop'), (2237, 'fi'), (2238, 'pillow'), (2239, 'damag'), (2240, 'mister'), (2241, 'mask'), (2242, 'itself'), (2243, 'drove'), (2244, 'pump'), (2245, 'ska'), (2246, 'boss'), (2247, 'himself'), (2248, 'list'), (2249, 'whiskey'), (2250, 'moral'), (2251, 'affect'), (2252, 'conquer'), (2253, 'rosa'), (2254, 'tumbl'), (2255, 'album'), (2256, 'mend'), (2257, 'warrior'), (2258, 'sinner'), (2259, 'herz'), (2260, 'mientra'), (2261, 'tip'), (2262, 'express'), (2263, 'loser'), (2264, 'chant'), (2265, 'ogni'), (2266, 'crave'), (2267, 'crystal'), (2268, 'diga'), (2269, 'perché'), (2270, 'thrown'), (2271, 'quell'), (2272, 'encontrar'), (2273, 'bay'), (2274, 'bee'), (2275, 'fruit'), (2276, 'hangin'), (2277, 'billi'), (2278, 'hollywood'), (2279, 'parad'), (2280, 'allt'), (2281, 'bailar'), (2282, 'weed'), (2283, 'ciudad'), (2284, 'switch'), (2285, 'wat'), (2286, 'soir'), (2287, 'stab'), (2288, 'asham'), (2289, 'vent'), (2290, 'collect'), (2291, 'macht'), (2292, 'truck'), (2293, 'instant'), (2294, 'terra'), (2295, 'temptat'), (2296, 'kuin'), (2297, 'skull'), (2298, 'ora'), (2299, 'ed'), (2300, 'fare'), (2301, 'rebel'), (2302, 'meat'), (2303, 'autumn'), (2304, 'bom'), (2305, 'viver'), (2306, 'london'), (2307, 'jos'), (2308, 'deliv'), (2309, 'perdido'), (2310, 'cuor'), (2311, 'doll'), (2312, 'downtown'), (2313, 'pink'), (2314, 'v'), (2315, 'owe'), (2316, 'quun'), (2317, 'sigu'), (2318, 'howl'), (2319, 'gana'), (2320, 'heartbeat'), (2321, 'core'), (2322, 'butterfli'), (2323, 'aquel'), (2324, 'chick'), (2325, 'della'), (2326, 'bastard'), (2327, 'wer'), (2328, 'noit'), (2329, 'imposs'), (2330, 'sangr'), (2331, 'easier'), (2332, 'clue'), (2333, 'li'), (2334, 'fuera'), (2335, 'shiver'), (2336, 'pool'), (2337, 'presenc'), (2338, 'dread'), (2339, 'surfac'), (2340, 'nient'), (2341, 'occhi'), (2342, 'pienso'), (2343, 'conscienc'), (2344, 'zero'), (2345, 'pelo'), (2346, 'alguien'), (2347, 'blaze'), (2348, 'squeez'), (2349, 'blast'), (2350, 'haben'), (2351, 'dope'), (2352, 'bruis'), (2353, 'pue'), (2354, 'tea'), (2355, 'honor'), (2356, 'ze'), (2357, '6'), (2358, 'lamb'), (2359, 'q'), (2360, 'recogn'), (2361, 'flor'), (2362, 'whistl'), (2363, 'roof'), (2364, 'givin'), (2365, 'gang'), (2366, 'bewar'), (2367, 'tomb'), (2368, 'lei'), (2369, 'euch'), (2370, 'seguir'), (2371, 'wow'), (2372, 'clap'), (2373, 'squar'), (2374, 'forma'), (2375, 'workin'), (2376, 'rider'), (2377, 'appl'), (2378, 'modern'), (2379, 'tellin'), (2380, 'magazin'), (2381, 'cha'), (2382, 'coz'), (2383, 'inner'), (2384, 'impress'), (2385, 'drawn'), (2386, 'smart'), (2387, 'harmoni'), (2388, 'govern'), (2389, 'iâ\\x80\\x99m'), (2390, 'quest'), (2391, 'gran'), (2392, 'volar'), (2393, 'bliss'), (2394, 'yuh'), (2395, 'polit'), (2396, 'dim'), (2397, 'tour'), (2398, 'pant'), (2399, 'cheer'), (2400, 'quer'), (2401, 'familiar'), (2402, 'fought'), (2403, 'roar'), (2404, 'dicen'), (2405, 'när'), (2406, 'pen'), (2407, 'obsess'), (2408, 'centuri'), (2409, 'i´m'), (2410, 'failur'), (2411, 'jail'), (2412, 'parec'), (2413, 'confid'), (2414, 'meg'), (2415, 'kneel'), (2416, 'spare'), (2417, 'pin'), (2418, 'vaya'), (2419, 'import'), (2420, 'mourn'), (2421, 'hablar'), (2422, 'giorno'), (2423, 'yearn'), (2424, 'cuenta'), (2425, 'guilt'), (2426, 'solut'), (2427, 'terr'), (2428, 'focus'), (2429, 'cling'), (2430, 'concret'), (2431, 'horror'), (2432, 'sore'), (2433, 'dom'), (2434, 'unfold'), (2435, 'bounc'), (2436, 'nun'), (2437, 'goal'), (2438, 'selfish'), (2439, 'knowledg'), (2440, 'canción'), (2441, 'awaken'), (2442, 'bath'), (2443, 'kommt'), (2444, 'delight'), (2445, 'hesit'), (2446, 'fond'), (2447, 'parol'), (2448, 'courag'), (2449, 'serious'), (2450, 'whether'), (2451, 'ter'), (2452, 'sweetest'), (2453, 'useless'), (2454, 'invis'), (2455, 'film'), (2456, 'ole'), (2457, 'themselv'), (2458, 'male'), (2459, 'alcohol'), (2460, 'sake'), (2461, 'sway'), (2462, 'relat'), (2463, 'nott'), (2464, 'tra'), (2465, 'stair'), (2466, 'parent'), (2467, 'advic'), (2468, 'grind'), (2469, 'negro'), (2470, 'vento'), (2471, 'riot'), (2472, 'sombra'), (2473, 'blown'), (2474, 'bajo'), (2475, '7'), (2476, 'saa'), (2477, 'burst'), (2478, 'quel'), (2479, 'size'), (2480, 'sheep'), (2481, 'fold'), (2482, 'captur'), (2483, 'dies'), (2484, 'texa'), (2485, 'lee'), (2486, 'dwell'), (2487, 'frighten'), (2488, 'fragil'), (2489, 'einen'), (2490, 'ave'), (2491, 'can’t'), (2492, 'hacia'), (2493, 'blew'), (2494, 'chicken'), (2495, 'thorn'), (2496, 'teenag'), (2497, 'everlast'), (2498, 'zone'), (2499, 'tape'), (2500, 'feather'), (2501, 'necesito'), (2502, 'compar'), (2503, 'agora'), (2504, 'loin'), (2505, 'pig'), (2506, 'carv'), (2507, 'plagu'), (2508, 'tiger'), (2509, 'flat'), (2510, 'dee'), (2511, 'punch'), (2512, 'bueno'), (2513, 'slaughter'), (2514, 'funk'), (2515, 'deseo'), (2516, 'ami'), (2517, 'nervous'), (2518, 'tragedi'), (2519, 'thick'), (2520, 'mijn'), (2521, 'fenc'), (2522, 'anytim'), (2523, 'backward'), (2524, 'brighter'), (2525, 'voir'), (2526, 'envi'), (2527, 'complic'), (2528, 'captain'), (2529, 'purpos'), (2530, 'ordinari'), (2531, 'nuestra'), (2532, 'grin'), (2533, 'mer'), (2534, 'infect'), (2535, 'spine'), (2536, 'ought'), (2537, 'defend'), (2538, 'photograph'), (2539, 'tha'), (2540, 'prey'), (2541, 'patient'), (2542, 'nombr'), (2543, 'flip'), (2544, 'mc'), (2545, 'mist'), (2546, 'toss'), (2547, 'castl'), (2548, 'ici'), (2549, 'horn'), (2550, 'secur'), (2551, 'jane'), (2552, 'k'), (2553, 'sä'), (2554, 'sympathi'), (2555, 'creo'), (2556, 'baila'), (2557, 'trash'), (2558, 'shirt'), (2559, 'twilight'), (2560, 'pair'), (2561, 'dreamer'), (2562, 'compromis'), (2563, 'board'), (2564, 'veil'), (2565, 'error'), (2566, 'standin'), (2567, 'ke'), (2568, 'realis'), (2569, 'devot'), (2570, 'solid'), (2571, 'babylon'), (2572, 'fanci'), (2573, 'ding'), (2574, 'kom'), (2575, 'faz'), (2576, 'cerca'), (2577, 'eg'), (2578, 'holdin'), (2579, 'justifi'), (2580, 'alor'), (2581, 'pearl'), (2582, 'domin'), (2583, 'soleil'), (2584, 'estaba'), (2585, 'origin'), (2586, 'llegar'), (2587, 'reject'), (2588, 'awhil'), (2589, 'sag'), (2590, 'milk'), (2591, 'tener'), (2592, 'sweetheart'), (2593, 'lil'), (2594, 'content'), (2595, 'samba'), (2596, 'extra'), (2597, 'ka'), (2598, 'rotten'), (2599, 'sucker'), (2600, 'salt'), (2601, 'bat'), (2602, 'worn'), (2603, 'toll'), (2604, 'pi'), (2605, 'buscando'), (2606, 'yard'), (2607, 'leather'), (2608, 'astray'), (2609, 'shift'), (2610, 'third'), (2611, 'grief'), (2612, 'azul'), (2613, 'upsid'), (2614, 'buck'), (2615, 'jingl'), (2616, 'witch'), (2617, 'dune'), (2618, 'borrow'), (2619, 'zijn'), (2620, 'ont'), (2621, 'kitchen'), (2622, 'bedroom'), (2623, 'sient'), (2624, 'sigo'), (2625, 'cream'), (2626, 'birthday'), (2627, 'limb'), (2628, 'court'), (2629, 'tom'), (2630, 'neon'), (2631, 'teacher'), (2632, 'meer'), (2633, 'overcom'), (2634, 'depress'), (2635, 'ingen'), (2636, 'juli'), (2637, 'scatter'), (2638, 'pussi'), (2639, 'pile'), (2640, 'jealous'), (2641, 'bum'), (2642, 'rocket'), (2643, 'jimmi'), (2644, 'habit'), (2645, 'dor'), (2646, 'sensat'), (2647, 'corrupt'), (2648, 'righteous'), (2649, 'neighbor'), (2650, 'rob'), (2651, 'moan'), (2652, 'quello'), (2653, 'dormir'), (2654, 'virgin'), (2655, 'labio'), (2656, 'port'), (2657, 'libertad'), (2658, 'depth'), (2659, 'revel'), (2660, 'pasar'), (2661, 'screw'), (2662, 'stress'), (2663, 'wolf'), (2664, 'sto'), (2665, 'augen'), (2666, 'él'), (2667, 'rum'), (2668, 'sir'), (2669, 'voor'), (2670, 'beau'), (2671, 'espera'), (2672, 'beam'), (2673, 'add'), (2674, 'farewel'), (2675, 'shower'), (2676, 'concern'), (2677, 'pasado'), (2678, 'measur'), (2679, 'oui'), (2680, 'licht'), (2681, 'voglio'), (2682, '4x'), (2683, 'raini'), (2684, 'remov'), (2685, 'ceas'), (2686, 'tail'), (2687, 'ive'), (2688, 'apolog'), (2689, 'peur'), (2690, 'border'), (2691, 'breakin'), (2692, 'viva'), (2693, 'charg'), (2694, 'mij'), (2695, 'frustrat'), (2696, 'perfum'), (2697, 'bent'), (2698, 'bubbl'), (2699, 'unto'), (2700, 'dag'), (2701, 'terribl'), (2702, 'ciel'), (2703, 'eve'), (2704, 'disgrac'), (2705, 'soil'), (2706, 'pro'), (2707, 'puerta'), (2708, 'wrath'), (2709, 'mun'), (2710, 'dreamin'), (2711, 'feast'), (2712, 'nas'), (2713, 'reaction'), (2714, 'duel'), (2715, '9'), (2716, 'scheme'), (2717, 'awar'), (2718, 'smooth'), (2719, 'shallow'), (2720, 'razón'), (2721, 'pode'), (2722, 'trigger'), (2723, 'patienc'), (2724, 'fatal'), (2725, 'brazo'), (2726, 'warmth'), (2727, 'nai'), (2728, 'ceil'), (2729, 'agoni'), (2730, 'sweep'), (2731, 'starv'), (2732, 'deje'), (2733, 'princ'), (2734, 'olho'), (2735, 'collaps'), (2736, 'fuel'), (2737, 'david'), (2738, 'skip'), (2739, 'entend'), (2740, 'greet'), (2741, 'haze'), (2742, 'wore'), (2743, 'crow'), (2744, 'pueda'), (2745, 'coup'), (2746, 'guerra'), (2747, 'å'), (2748, 'vale'), (2749, 'fe'), (2750, 'privat'), (2751, 'nyt'), (2752, 'jame'), (2753, 'herself'), (2754, 'bullshit'), (2755, 'teardrop'), (2756, 'commit'), (2757, 'blink'), (2758, 'pensando'), (2759, 'disast'), (2760, 'lon'), (2761, 'ang'), (2762, 'olvido'), (2763, 'siren'), (2764, 'glorious'), (2765, 'frown'), (2766, 'glanc'), (2767, 'absolut'), (2768, 'vuelvo'), (2769, 'convinc'), (2770, 'palm'), (2771, 'guarante'), (2772, 'mention'), (2773, 'ridin'), (2774, 'rent'), (2775, 'mike'), (2776, 'vaan'), (2777, 'sentiment'), (2778, 'tutti'), (2779, 'heartbreak'), (2780, 'pobr'), (2781, 'haut'), (2782, 'año'), (2783, 'unser'), (2784, 'corp'), (2785, 'vow'), (2786, 'ele'), (2787, 'tristeza'), (2788, 'stray'), (2789, 'vuoi'), (2790, 'oi'), (2791, 'punish'), (2792, 'libr'), (2793, 'fondo'), (2794, 'i’ll'), (2795, 'morgen'), (2796, 'televis'), (2797, 'cama'), (2798, 'suffoc'), (2799, 'mann'), (2800, 'click'), (2801, 'torment'), (2802, 'repent'), (2803, 'fri'), (2804, 'contra'), (2805, 'condit'), (2806, 'alt'), (2807, 'teas'), (2808, 'linda'), (2809, 'prize'), (2810, 'michael'), (2811, 'yell'), (2812, 'jou'), (2813, 'jo'), (2814, 'ego'), (2815, 'donâ\\x80\\x99t'), (2816, 'ander'), (2817, 'cook'), (2818, 'cave'), (2819, 'darken'), (2820, 'mut'), (2821, 'attitud'), (2822, 'collid'), (2823, 'adesso'), (2824, 'mirar'), (2825, 'mitt'), (2826, 'sleev'), (2827, 'parar'), (2828, 'despué'), (2829, 'sting'), (2830, 'plenti'), (2831, 'werd'), (2832, 'coração'), (2833, 'gay'), (2834, 'devour'), (2835, 'peut'), (2836, 'eagl'), (2837, 'fors'), (2838, 'equal'), (2839, 'empir'), (2840, 'prend'), (2841, 'balanc'), (2842, 'ala'), (2843, 'går'), (2844, 'cultur'), (2845, 'soak'), (2846, 'jeder'), (2847, 'quarter'), (2848, 'tone'), (2849, 'herida'), (2850, 'amanec'), (2851, 'summertim'), (2852, 'unseen'), (2853, 'thang'), (2854, 'sharp'), (2855, 'proof'), (2856, 'sonrisa'), (2857, 'earn'), (2858, 'preacher'), (2859, 'über'), (2860, 'base'), (2861, 'belli'), (2862, 'mach'), (2863, 'lullabi'), (2864, 'louder'), (2865, 'dulc'), (2866, 'panic'), (2867, 'flore'), (2868, 'social'), (2869, 'werden'), (2870, 'rang'), (2871, 'cock'), (2872, 'shown'), (2873, 'sung'), (2874, 'understood'), (2875, 'progress'), (2876, 'cambiar'), (2877, 'strand'), (2878, 'seh'), (2879, 'role'), (2880, 'despertar'), (2881, 'bride'), (2882, 'crook'), (2883, 'fiesta'), (2884, '3x'), (2885, 'thug'), (2886, 'bind'), (2887, 'quoi'), (2888, 'notr'), (2889, 'shove'), (2890, 'suert'), (2891, 'gangsta'), (2892, 'frent'), (2893, 'cherri'), (2894, 'mill'), (2895, 'há'), (2896, 'oil'), (2897, 'coisa'), (2898, 'dude'), (2899, 'deed'), (2900, 'oclock'), (2901, 'cabeza'), (2902, 'st'), (2903, 'tres'), (2904, 'ama'), (2905, 'drank'), (2906, 'strain'), (2907, 'espero'), (2908, 'muert'), (2909, 'dragon'), (2910, 'homm'), (2911, 'wrist'), (2912, 'team'), (2913, 'jen'), (2914, 'thirst'), (2915, 'einfach'), (2916, 'basta'), (2917, 'playa'), (2918, 'pronto'), (2919, 'avoid'), (2920, 'inch'), (2921, 'ecstasi'), (2922, 'muero'), (2923, 'inform'), (2924, 'mud'), (2925, 'deus'), (2926, 'gehen'), (2927, 'madr'), (2928, 'purpl'), (2929, 'nog'), (2930, 'razor'), (2931, 'rust'), (2932, 'femm'), (2933, 'famous'), (2934, 'pui'), (2935, 'defin'), (2936, 'atrá'), (2937, 'don´t'), (2938, 'bold'), (2939, 'bibl'), (2940, 'pit'), (2941, 'kaikki'), (2942, 'burnt'), (2943, 'choir'), (2944, 'trial'), (2945, 'essa'), (2946, 'entertain'), (2947, 'penni'), (2948, 'comment'), (2949, 'rio'), (2950, 'här'), (2951, 'bras'), (2952, 'tenho'), (2953, 'demis'), (2954, 'serpent'), (2955, 'lleva'), (2956, 'alguna'), (2957, 'emerg'), (2958, 'rue'), (2959, 'stolen'), (2960, 'ooooh'), (2961, 'alarm'), (2962, 'autr'), (2963, 'hug'), (2964, 'arrow'), (2965, 'buena'), (2966, 'templ'), (2967, 'también'), (2968, 'rejoic'), (2969, 'bene'), (2970, 'code'), (2971, 'vuelva'), (2972, 'damour'), (2973, 'itâ\\x80\\x99'), (2974, 'taim'), (2975, 'dancer'), (2976, 'odd'), (2977, 'gloria'), (2978, 'map'), (2979, 'adio'), (2980, 'presid'), (2981, 'aha'), (2982, 'afford'), (2983, 'southern'), (2984, 'mala'), (2985, 'drivin'), (2986, 'rag'), (2987, 'organ'), (2988, 'experi'), (2989, 'spite'), (2990, 'boil'), (2991, 'movement'), (2992, 'highest'), (2993, 'avant'), (2994, 'immort'), (2995, 'pens'), (2996, 'plate'), (2997, 'cake'), (2998, 'esperando'), (2999, 'esperar'), (3000, 'az'), (3001, 'qu'), (3002, 'bobbi'), (3003, 'slam'), (3004, 'jet'), (3005, 'vom'), (3006, 'chanson'), (3007, 'halt'), (3008, 'soar'), (3009, 'cancion'), (3010, 'bob'), (3011, 'swell'), (3012, 'bo'), (3013, 'warum'), (3014, 'pot'), (3015, 'funer'), (3016, 'christian'), (3017, 'gen'), (3018, 'yeh'), (3019, 'niño'), (3020, 'risk'), (3021, 'ritmo'), (3022, 'felicidad'), (3023, 'scienc'), (3024, 'plead'), (3025, 'llevo'), (3026, 'vu'), (3027, 'drinkin'), (3028, 'maker'), (3029, 'amen'), (3030, 'giant'), (3031, 'level'), (3032, 'raw'), (3033, 'nella'), (3034, 'ess'), (3035, 'flew'), (3036, '8'), (3037, 'até'), (3038, 'languag'), (3039, 'deepest'), (3040, 'pido'), (3041, 'zurück'), (3042, 'encuentro'), (3043, 'motor'), (3044, 'visit'), (3045, 'z'), (3046, 'sweeter'), (3047, 'pose'), (3048, 'aldrig'), (3049, 'cradl'), (3050, 'obey'), (3051, 'goddamn'), (3052, 'threat'), (3053, 'partir'), (3054, 'hoje'), (3055, 'driver'), (3056, 'attract'), (3057, 'buddi'), (3058, 'public'), (3059, 'avenu'), (3060, 'taa'), (3061, 'co'), (3062, 'busco'), (3063, 'tempt'), (3064, 'chemic'), (3065, 'jone'), (3066, 'shakin'), (3067, 'ny'), (3068, 'mie'), (3069, 'siamo'), (3070, 'nena'), (3071, 'vorrei'), (3072, 'bein'), (3073, 'daili'), (3074, 'sta'), (3075, 'stack'), (3076, 'nasti'), (3077, 'satisfact'), (3078, 'center'), (3079, 'tame'), (3080, 'pierc'), (3081, 'obvious'), (3082, 'worthi'), (3083, 'pourquoi'), (3084, 'consid'), (3085, 'gar'), (3086, 'anda'), (3087, 'sparkl'), (3088, 'willst'), (3089, 'fulfil'), (3090, 'i’v'), (3091, 'prophet'), (3092, 'vanish'), (3093, 'pan'), (3094, 'slap'), (3095, 'quién'), (3096, 'hypnot'), (3097, 'spoon'), (3098, 'posso'), (3099, 'thread'), (3100, 'china'), (3101, 'chew'), (3102, 'quanto'), (3103, 'canta'), (3104, 'whatcha'), (3105, 'bump'), (3106, 'és'), (3107, 'humbl'), (3108, 'claw'), (3109, 'preach'), (3110, 'cadillac'), (3111, 'mate'), (3112, 'chaqu'), (3113, 'sí'), (3114, 'bond'), (3115, 'grain'), (3116, 'ninguém'), (3117, 'dieser'), (3118, 'são'), (3119, 'mucha'), (3120, 'voce'), (3121, 'cómo'), (3122, 'saniti'), (3123, 'blank'), (3124, 'già'), (3125, 'degre'), (3126, 'wither'), (3127, 'snap'), (3128, 'fog'), (3129, 'doy'), (3130, 'despis'), (3131, 'endur'), (3132, 'luce'), (3133, 'busca'), (3134, 'salir'), (3135, 'sip'), (3136, 'dedic'), (3137, 'pine'), (3138, 'alley'), (3139, 'rearrang'), (3140, 'saviour'), (3141, 'donn'), (3142, 'traffic'), (3143, 'sincer'), (3144, 'vad'), (3145, 'liberti'), (3146, 'volta'), (3147, 'gypsi'), (3148, 'pare'), (3149, 'ko'), (3150, 'struck'), (3151, 'deinen'), (3152, 'chip'), (3153, 'ut'), (3154, 'puls'), (3155, 'scent'), (3156, 'meinen'), (3157, 'lame'), (3158, 'stir'), (3159, 'chop'), (3160, 'fuert'), (3161, 'sehen'), (3162, 'condemn'), (3163, 'llena'), (3164, 'cleans'), (3165, 'neither'), (3166, 'buzz'), (3167, 'tai'), (3168, 'indian'), (3169, 'muss'), (3170, 'enfant'), (3171, 'negra'), (3172, 'rub'), (3173, 'prima'), (3174, 'blowin'), (3175, 'cancer'), (3176, 'solitud'), (3177, 'driven'), (3178, 'kommer'), (3179, 'klein'), (3180, 'sooner'), (3181, 'success'), (3182, 'media'), (3183, 'viejo'), (3184, 'blacken'), (3185, 'foreign'), (3186, 'vuelta'), (3187, 'greater'), (3188, 'sourc'), (3189, 'boyfriend'), (3190, 'medicin'), (3191, 'rare'), (3192, 'hago'), (3193, 'lace'), (3194, 'decemb'), (3195, 'colder'), (3196, 'camera'), (3197, 'quelqu'), (3198, 'bail'), (3199, 'sagt'), (3200, 'vivr'), (3201, 'tool'), (3202, 'oper'), (3203, 'crimin'), (3204, 'havin'), (3205, 'interest'), (3206, 'paul'), (3207, 'être'), (3208, 'llega'), (3209, 'vet'), (3210, 'runaway'), (3211, 'slept'), (3212, 'footstep'), (3213, 'sixteen'), (3214, 'fuerza'), (3215, 'priest'), (3216, 'nana'), (3217, 'egg'), (3218, 'intro'), (3219, 'aussi'), (3220, 'realidad'), (3221, 'turnin'), (3222, 'alien'), (3223, 'vengeanc'), (3224, 'kannst'), (3225, 'dejar'), (3226, 'stake'), (3227, 'días'), (3228, 'sonn'), (3229, 'noir'), (3230, 'sooth'), (3231, 'cuanto'), (3232, 'rein'), (3233, 'bara'), (3234, 'watchin'), (3235, 'sentido'), (3236, 'peel'), (3237, 'stormi'), (3238, 'player'), (3239, 'dinner'), (3240, 'hardest'), (3241, 'respons'), (3242, 'juego'), (3243, 'worm'), (3244, 'tak'), (3245, 'aye'), (3246, 'ar'), (3247, 'perhap'), (3248, 'dizer'), (3249, 'orlean'), (3250, 'blond'), (3251, 'critic'), (3252, 'stomach'), (3253, 'niemand'), (3254, 'toast'), (3255, 'oye'), (3256, 'bug'), (3257, 'crucifi'), (3258, 'sailor'), (3259, 'steam'), (3260, 'clever'), (3261, 'claus'), (3262, 'uncl'), (3263, 'graviti'), (3264, 'chica'), (3265, 'reap'), (3266, 'sento'), (3267, 'farm'), (3268, 'opinion'), (3269, 'estamo'), (3270, 'whom'), (3271, 'blir'), (3272, 'grasp'), (3273, 'mamma'), (3274, 'tore'), (3275, 'dale'), (3276, 'hurrican'), (3277, 'mesmo'), (3278, 'thief'), (3279, 'za'), (3280, 'tuoi'), (3281, 'vibe'), (3282, 'shini'), (3283, 'muerto'), (3284, 'sidewalk'), (3285, 'passa'), (3286, 'conscious'), (3287, 'glove'), (3288, 'perform'), (3289, 'lluvia'), (3290, 'winner'), (3291, 'consequ'), (3292, 'cantando'), (3293, 'bleibt'), (3294, 'buscar'), (3295, 'sentimiento'), (3296, 'disappoint'), (3297, 'ann'), (3298, 'lamor'), (3299, 'oss'), (3300, 'amant'), (3301, 'ki'), (3302, 'zo'), (3303, 'jede'), (3304, 'satellit'), (3305, 'tattoo'), (3306, 'muito'), (3307, 'weit'), (3308, 'tas'), (3309, 'deg'), (3310, 'usual'), (3311, 'hecho'), (3312, 'cocain'), (3313, 'tot'), (3314, 'tuesday'), (3315, 'tension'), (3316, 'rout'), (3317, 'educ'), (3318, 'bitt'), (3319, 'zombi'), (3320, 'ohoh'), (3321, 'mieux'), (3322, 'furi'), (3323, 'alter'), (3324, 'lend'), (3325, 'valu'), (3326, 'ainda'), (3327, 'coal'), (3328, 'tí'), (3329, 'mommi'), (3330, 'velvet'), (3331, 'blanket'), (3332, 'drama'), (3333, 'bowl'), (3334, 'orang'), (3335, 'amart'), (3336, 'uhh'), (3337, 'reborn'), (3338, 'angst'), (3339, 'lotta'), (3340, 'lyin'), (3341, 'especi'), (3342, 'conceal'), (3343, 'rid'), (3344, 'ideal'), (3345, 'dal'), (3346, 'sos'), (3347, 'willi'), (3348, 'sentenc'), (3349, 'tête'), (3350, 'dell'), (3351, 'adió'), (3352, 'tar'), (3353, 'button'), (3354, 'nao'), (3355, 'strap'), (3356, 'meinem'), (3357, 'display'), (3358, 'aan'), (3359, 'fra'), (3360, 'ihn'), (3361, 'tap'), (3362, 'sagen'), (3363, 'miei'), (3364, 'hon'), (3365, 'signal'), (3366, 'sul'), (3367, 'shook'), (3368, 'dot'), (3369, 'jewel'), (3370, 'himmel'), (3371, 'vine'), (3372, 'redeem'), (3373, 'musica'), (3374, 'cow'), (3375, 'einer'), (3376, 'termin'), (3377, 'meus'), (3378, 'pattern'), (3379, 'ur'), (3380, 'throughout'), (3381, 'younger'), (3382, 'coin'), (3383, 'verso'), (3384, 'deaf'), (3385, 'ahhh'), (3386, 'expos'), (3387, 'compass'), (3388, 'personn'), (3389, 'donna'), (3390, 'num'), (3391, 'describ'), (3392, 'lower'), (3393, 'brush'), (3394, 'alegria'), (3395, 'mm'), (3396, 'outro'), (3397, 'fazer'), (3398, 'tangl'), (3399, 'instinct'), (3400, 'effect'), (3401, 'approach'), (3402, 'breast'), (3403, 'volt'), (3404, 'naar'), (3405, 'dart'), (3406, 'wil'), (3407, 'franc'), (3408, 'ow'), (3409, 'repli'), (3410, 'provid'), (3411, 'fim'), (3412, 'declar'), (3413, 'nuclear'), (3414, 'swore'), (3415, 'ez'), (3416, 'llama'), (3417, 'vino'), (3418, 'están'), (3419, 'solv'), (3420, 'piensa'), (3421, 'steht'), (3422, 'distort'), (3423, 'lair'), (3424, 'rubber'), (3425, 'factori'), (3426, 'post'), (3427, 'artist'), (3428, 'anni'), (3429, 'peter'), (3430, 'biggest'), (3431, 'brutal'), (3432, 'extrem'), (3433, 'english'), (3434, 'jij'), (3435, 'jerk'), (3436, 'aún'), (3437, 'calma'), (3438, 'laiss'), (3439, 'debt'), (3440, 'perch'), (3441, 'shield'), (3442, 'mía'), (3443, 'esperanza'), (3444, 'haar'), (3445, 'doi'), (3446, 'redempt'), (3447, 'model'), (3448, 'sido'), (3449, 'weigh'), (3450, 'resurrect'), (3451, 'alto'), (3452, 'curl'), (3453, 'cent'), (3454, 'june'), (3455, 'slice'), (3456, 'mitä'), (3457, 'sha'), (3458, 'olen'), (3459, 'insecur'), (3460, 'coward'), (3461, 'ra'), (3462, 'usa'), (3463, 'finn'), (3464, 'georgia'), (3465, 'estou'), (3466, 'cute'), (3467, 'cruis'), (3468, 'mexico'), (3469, 'invad'), (3470, 'jealousi'), (3471, 'futuro'), (3472, 'fuist'), (3473, 'dejo'), (3474, 'halo'), (3475, 'tras'), (3476, 'beaten'), (3477, 'luego'), (3478, 'shelf'), (3479, 'motiv'), (3480, 'twelv'), (3481, 'it´'), (3482, 'rumor'), (3483, 'tennesse'), (3484, 'swept'), (3485, 'anna'), (3486, 'jaim'), (3487, 'nosso'), (3488, 'nuh'), (3489, 'jamá'), (3490, 'contain'), (3491, 'nein'), (3492, 'wort'), (3493, 'ate'), (3494, 'sleigh'), (3495, 'schön'), (3496, 'champagn'), (3497, 'aun'), (3498, 'defens'), (3499, 'deceit'), (3500, 'weird'), (3501, 'relief'), (3502, 'tá'), (3503, 'product'), (3504, 'dip'), (3505, 'zwei'), (3506, '12'), (3507, 'gesicht'), (3508, 'singer'), (3509, 'vera'), (3510, 'vielleicht'), (3511, 'spi'), (3512, 'target'), (3513, 'souvenir'), (3514, 'stereo'), (3515, 'bij'), (3516, 'rude'), (3517, 'manera'), (3518, 'ab'), (3519, 'reli'), (3520, 'woh'), (3521, 'harvest'), (3522, 'corpo'), (3523, 'liquid'), (3524, 'fucker'), (3525, 'exit'), (3526, 'sonho'), (3527, '20'), (3528, 'woe'), (3529, 'web'), (3530, 'casi'), (3531, 'facil'), (3532, 'princess'), (3533, 'einmal'), (3534, 'muscl'), (3535, 'booti'), (3536, 'blur'), (3537, 'ii'), (3538, 'ahí'), (3539, 'duck'), (3540, 'respirar'), (3541, 'minä'), (3542, 'evid'), (3543, 'idiot'), (3544, 'breakdown'), (3545, 'liber'), (3546, 'sow'), (3547, 'georg'), (3548, 'dans'), (3549, 'einem'), (3550, 'flyin'), (3551, 'symphoni'), (3552, 'ficar'), (3553, 'automat'), (3554, 'robot'), (3555, 'igen'), (3556, 'realm'), (3557, 'practic'), (3558, 'distract'), (3559, 'extraño'), (3560, 'judgement'), (3561, 'sane'), (3562, 'april'), (3563, 'caer'), (3564, 'gear'), (3565, 'vicious'), (3566, 'womb'), (3567, 'visto'), (3568, 'h'), (3569, 'major'), (3570, 'willow'), (3571, 'neighborhood'), (3572, 'static'), (3573, 'wealth'), (3574, 'reel'), (3575, 'yer'), (3576, 'isol'), (3577, 'joint'), (3578, 'dónde'), (3579, 'venus'), (3580, 'dijo'), (3581, 'evri'), (3582, 'wolv'), (3583, 'ventana'), (3584, 'lala'), (3585, 'cariño'), (3586, 'dinero'), (3587, 'africa'), (3588, 'coraz'), (3589, 'homi'), (3590, 'sock'), (3591, 'arena'), (3592, 'support'), (3593, 'credit'), (3594, 'regga'), (3595, 'repres'), (3596, 'miro'), (3597, 'matin'), (3598, 'sleepi'), (3599, 'worthless'), (3600, 'video'), (3601, 'griev'), (3602, 'meiner'), (3603, 'branch'), (3604, 'achiev'), (3605, 'denk'), (3606, 'vielä'), (3607, 'demain'), (3608, 'maze'), (3609, 'knockin'), (3610, 'correct'), (3611, 'dial'), (3612, 'file'), (3613, 'misma'), (3614, 'soi'), (3615, 'malo'), (3616, 'filthi'), (3617, 'jim'), (3618, 'juic'), (3619, 'convict'), (3620, 'cycl'), (3621, 'ceux'), (3622, 'perdu'), (3623, 'ello'), (3624, 'disturb'), (3625, 'pein'), (3626, 'chocol'), (3627, 'rapper'), (3628, 'olvid'), (3629, 'forgiven'), (3630, 'sinn'), (3631, 'tend'), (3632, 'corpor'), (3633, 'tunnel'), (3634, 'loca'), (3635, 'dai'), (3636, 'legend'), (3637, 'dimens'), (3638, 'tief'), (3639, 'idol'), (3640, 'dyin'), (3641, 'forsaken'), (3642, 'allá'), (3643, 'fella'), (3644, 'physic'), (3645, 'matar'), (3646, 'tragic'), (3647, 'gris'), (3648, 'soll'), (3649, 'forti'), (3650, 'communic'), (3651, 'dough'), (3652, 'england'), (3653, 'denial'), (3654, 'där'), (3655, 'liv'), (3656, 'local'), (3657, 'algún'), (3658, 'urg'), (3659, 'céu'), (3660, 'hijo'), (3661, 'taxi'), (3662, 'ambit'), (3663, 'voyag'), (3664, 'locura'), (3665, 'mere'), (3666, 'dull'), (3667, 'unleash'), (3668, 'tread'), (3669, 'smokin'), (3670, 'william'), (3671, 'gleam'), (3672, 'civil'), (3673, 'defi'), (3674, 'haga'), (3675, 'amongst'), (3676, 'ob'), (3677, 'heed'), (3678, 'bull'), (3679, 'host'), (3680, 'dieu'), (3681, 'villag'), (3682, 'unkind'), (3683, 'altar'), (3684, 'arriba'), (3685, 'sal'), (3686, 'lisa'), (3687, 'bunch'), (3688, 'croi'), (3689, 'weiter'), (3690, 'pardon'), (3691, 'aller'), (3692, 'despit'), (3693, 'ignit'), (3694, 'cotton'), (3695, 'nei'), (3696, 'dr'), (3697, 'verd'), (3698, 'phase'), (3699, 'porta'), (3700, 'gracia'), (3701, 'tue'), (3702, 'depoi'), (3703, 'link'), (3704, 'intern'), (3705, 'seventeen'), (3706, 'decirt'), (3707, 'shes'), (3708, 'coffin'), (3709, 'hound'), (3710, 'decept'), (3711, 'health'), (3712, 'frei'), (3713, 'alibi'), (3714, 'vengo'), (3715, 'bled'), (3716, 'rubi'), (3717, 'leaf'), (3718, 'attempt'), (3719, 'tienen'), (3720, 'llorando'), (3721, 'suelo'), (3722, 'thumb'), (3723, 'razon'), (3724, 'rode'), (3725, 'sober'), (3726, 'buen'), (3727, 'pela'), (3728, 'cum'), (3729, 'joka'), (3730, 'iâ'), (3731, 'crimson'), (3732, 'height'), (3733, 'frost'), (3734, 'acid'), (3735, 'glaub'), (3736, 'net'), (3737, 'pimp'), (3738, 'empezar'), (3739, 'font'), (3740, 'selbst'), (3741, 'shepherd'), (3742, 'hunter'), (3743, 'jive'), (3744, 'prevail'), (3745, 'jaw'), (3746, 'circus'), (3747, 'sia'), (3748, 'background'), (3749, 'fairi'), (3750, 'sufrir'), (3751, 'quieren'), (3752, 'symbol'), (3753, 'sabor'), (3754, 'geh'), (3755, 'sulla'), (3756, 'jeden'), (3757, 'peak'), (3758, 'plot'), (3759, 'guarda'), (3760, 'blanco'), (3761, 'manag'), (3762, 'safeti'), (3763, 'sleepless'), (3764, 'chez'), (3765, 'liquor'), (3766, 'narrow'), (3767, 'explos'), (3768, 'object'), (3769, 'there’'), (3770, 'meal'), (3771, 'unholi'), (3772, 'nós'), (3773, 'deiner'), (3774, 'untru'), (3775, 'wah'), (3776, 'fountain'), (3777, 'ô'), (3778, 'penso'), (3779, 'spider'), (3780, 'mata'), (3781, 'inde'), (3782, 'poet'), (3783, 'flicker'), (3784, 'vote'), (3785, 'tank'), (3786, 'salli'), (3787, 'scale'), (3788, 'halfway'), (3789, 'jsui'), (3790, 'traum'), (3791, 'keepin'), (3792, 'foe'), (3793, 'honesti'), (3794, 'creer'), (3795, 'missin'), (3796, 'torch'), (3797, 'infinit'), (3798, 'niña'), (3799, 'wär'), (3800, 'haus'), (3801, 'holler'), (3802, 'gott'), (3803, 'attend'), (3804, 'skill'), (3805, 'ref'), (3806, 'atom'), (3807, 'bas'), (3808, 'scorn'), (3809, 'cap'), (3810, 'hem'), (3811, 'keiner'), (3812, 'olhar'), (3813, 'vibrat'), (3814, 'faint'), (3815, 'nen'), (3816, 'offic'), (3817, 'pave'), (3818, 'peux'), (3819, 'stroll'), (3820, 'piu'), (3821, 'bello'), (3822, 'ahi'), (3823, 'voodoo'), (3824, 'cétait'), (3825, 'caricia'), (3826, 'knot'), (3827, 'thirti'), (3828, 'thigh'), (3829, 'tuyo'), (3830, 'tenga'), (3831, 'process'), (3832, 'duro'), (3833, 'estribillo'), (3834, 'gern'), (3835, 'valentin'), (3836, 'fright'), (3837, 'spiritu'), (3838, 'stock'), (3839, 'fiction'), (3840, 'senti'), (3841, 'memphi'), (3842, 'padr'), (3843, '¿qué'), (3844, 'olla'), (3845, 'overwhelm'), (3846, 'mami'), (3847, 'glimps'), (3848, 'friendship'), (3849, 'vampir'), (3850, 'paralyz'), (3851, 'lifeless'), (3852, 'coke'), (3853, 'hardcor'), (3854, 'pistol'), (3855, 'bush'), (3856, 'cherish'), (3857, 'spiral'), (3858, 'infin'), (3859, 'weav'), (3860, 'sack'), (3861, 'bam'), (3862, 'hacen'), (3863, 'dalla'), (3864, 'inna'), (3865, 'chin'), (3866, 'parasit'), (3867, 'contact'), (3868, 'dado'), (3869, 'losin'), (3870, 'était'), (3871, 'fleur'), (3872, 'raus'), (3873, 'weh'), (3874, 'wage'), (3875, 'tambien'), (3876, 'dissolv'), (3877, 'won’t'), (3878, 'cu'), (3879, 'puoi'), (3880, 'superstar'), (3881, 'searchin'), (3882, 'ali'), (3883, 'nueva'), (3884, 'hart'), (3885, 'diss'), (3886, 'tenert'), (3887, 'whoo'), (3888, 'almighti'), (3889, 'unwind'), (3890, 'plea'), (3891, 'sexual'), (3892, 'dew'), (3893, 'negat'), (3894, 'bu'), (3895, 'spoil'), (3896, 'junki'), (3897, 'puppet'), (3898, 'gin'), (3899, 'blossom'), (3900, 'fuss'), (3901, 'plein'), (3902, 'vast'), (3903, 'stell'), (3904, 'histoir'), (3905, 'stroke'), (3906, 'â\\x96'), (3907, 'seam'), (3908, 'rey'), (3909, 'medo'), (3910, 'prefer'), (3911, 'northern'), (3912, 'author'), (3913, 'disgust'), (3914, 'dure'), (3915, 'devant'), (3916, 'wretch'), (3917, 'sarà'), (3918, 'atmospher'), (3919, 'daydream'), (3920, 'pipe'), (3921, 'remors'), (3922, 'martyr'), (3923, 'yonder'), (3924, 'moin'), (3925, 'hizo'), (3926, 'sneak'), (3927, 'debe'), (3928, 'abyss'), (3929, 'version'), (3930, 'papel'), (3931, 'comprend'), (3932, 'uhhuh'), (3933, 'isso'), (3934, 'oooo'), (3935, 'pon'), (3936, 'gutter'), (3937, 'rate'), (3938, 'vaikka'), (3939, 'pavement'), (3940, 'od'), (3941, 'dusti'), (3942, 'roller'), (3943, 'label'), (3944, 'deck'), (3945, 'vultur'), (3946, 'tun'), (3947, 'careless'), (3948, 'glide'), (3949, 'wirklich'), (3950, 'pawn'), (3951, 'vorbei'), (3952, 'fifteen'), (3953, 'bord'), (3954, 'nut'), (3955, 'mentr'), (3956, 'quis'), (3957, 'spanish'), (3958, 'impos'), (3959, 'fifti'), (3960, 'stink'), (3961, 'leap'), (3962, 'jahr'), (3963, 'penetr'), (3964, 'dam'), (3965, 'ritual'), (3966, 'fellow'), (3967, 'clip'), (3968, 'suppli'), (3969, 'flee'), (3970, 'elev'), (3971, 'mail'), (3972, 'ribbon'), (3973, 'corr'), (3974, 'hospit'), (3975, 'aina'), (3976, 'ladder'), (3977, 'wail'), (3978, 'bathroom'), (3979, 'dá'), (3980, 'sait'), (3981, 'jenni'), (3982, 'heur'), (3983, 'revolv'), (3984, 'barrio'), (3985, 'knive'), (3986, 'vice'), (3987, 'firm'), (3988, 'chicago'), (3989, 'ikk'), (3990, 'breakfast'), (3991, 'että'), (3992, 'despu'), (3993, 'darker'), (3994, 'upset'), (3995, 'oblivion'), (3996, 'hustl'), (3997, 'favourit'), (3998, 'reward'), (3999, 'servant'), (4000, 'rewind'), (4001, 'primavera'), (4002, 'culpa'), (4003, 'enslav'), (4004, 'solament'), (4005, 'ditt'), (4006, 'charli'), (4007, 'pueblo'), (4008, 'fuse'), (4009, 'aquella'), (4010, 'toca'), (4011, 'tin'), (4012, 'opposit'), (4013, 'propheci'), (4014, 'zur'), (4015, 'oughta'), (4016, 'sorriso'), (4017, 'carpet'), (4018, 'servic'), (4019, 'dort'), (4020, 'oscuridad'), (4021, 'comput'), (4022, 'mont'), (4023, 'olvidart'), (4024, 'butt'), (4025, 'invent'), (4026, 'acaba'), (4027, 'strive'), (4028, 'muev'), (4029, 'chord'), (4030, 'sleepin'), (4031, 'foul'), (4032, 'scrape'), (4033, 'erst'), (4034, 'captiv'), (4035, 'ey'), (4036, 'bid'), (4037, 'ohhhh'), (4038, 'jar'), (4039, 'drew'), (4040, 'definit'), (4041, 'wonderin'), (4042, 'slight'), (4043, 'pole'), (4044, 'fascin'), (4045, 'shorti'), (4046, 'bark'), (4047, 'killin'), (4048, 'produc'), (4049, 'alguém'), (4050, 'mystic'), (4051, 'peep'), (4052, 'grate'), (4053, 'tranc'), (4054, 'nube'), (4055, 'resto'), (4056, 'nome'), (4057, 'oppress'), (4058, 'batter'), (4059, 'bike'), (4060, 'liegt'), (4061, 'harri'), (4062, 'medic'), (4063, 'glück'), (4064, 'accid'), (4065, 'waltz'), (4066, 'asshol'), (4067, 'soñar'), (4068, 'stall'), (4069, 'problema'), (4070, 'deixa'), (4071, 'finest'), (4072, 'fácil'), (4073, 'rome'), (4074, 'quedo'), (4075, 'savag'), (4076, 'bonita'), (4077, 'politician'), (4078, 'seiz'), (4079, 'general'), (4080, 'hör'), (4081, 'parl'), (4082, 'independ'), (4083, 'très'), (4084, 'wirst'), (4085, 'ain'), (4086, 'perchè'), (4087, 'seit'), (4088, 'dine'), (4089, 'pollut'), (4090, 'french'), (4091, 'phrase'), (4092, 'niemal'), (4093, 'circumst'), (4094, 'rattl'), (4095, 'musiqu'), (4096, 'romant'), (4097, 'ultim'), (4098, 'deinem'), (4099, 'union'), (4100, 'habe'), (4101, 'stench'), (4102, 'sest'), (4103, 'couch'), (4104, 'sourir'), (4105, 'accus'), (4106, 'determin'), (4107, 'risa'), (4108, 'prime'), (4109, 'nom'), (4110, 'enamorado'), (4111, 'hater'), (4112, 'egal'), (4113, 'bonheur'), (4114, 'meadow'), (4115, 'klar'), (4116, 'saudad'), (4117, 'beep'), (4118, 'shotgun'), (4119, 'gira'), (4120, 'contar'), (4121, 'lamp'), (4122, 'elvi'), (4123, 'trumpet'), (4124, 'porch'), (4125, 'graveyard'), (4126, 'gentlemen'), (4127, 'seren'), (4128, 'grito'), (4129, 'vil'), (4130, 'glitter'), (4131, 'larg'), (4132, 'kopf'), (4133, 'secreto'), (4134, 'group'), (4135, 'profit'), (4136, 'declin'), (4137, 'lou'), (4138, 'sour'), (4139, 'involv'), (4140, 'quizá'), (4141, 'boo'), (4142, 'project'), (4143, 'materi'), (4144, 'ilusión'), (4145, 'noel'), (4146, 'placer'), (4147, 'execut'), (4148, 'revers'), (4149, 'luci'), (4150, 'gambl'), (4151, 'summon'), (4152, 'também'), (4153, 'mua'), (4154, 'señor'), (4155, 'fest'), (4156, 'melhor'), (4157, 'madrugada'), (4158, 'fo'), (4159, 'microphon'), (4160, 'claro'), (4161, 'virus'), (4162, 'explor'), (4163, 'speech'), (4164, 'venom'), (4165, 'fino'), (4166, 'sehr'), (4167, 'hän'), (4168, 'vacat'), (4169, 'partner'), (4170, 'cualquier'), (4171, 'youâ\\x80\\x99r'), (4172, 'sotto'), (4173, 'doorway'), (4174, 'silhouett'), (4175, 'notion'), (4176, 'entrar'), (4177, 'market'), (4178, 'slay'), (4179, 'rail'), (4180, 'mold'), (4181, 'rêve'), (4182, 'yah'), (4183, 'raven'), (4184, 'insiem'), (4185, 'knight'), (4186, 'cuento'), (4187, 'heb'), (4188, 'cose'), (4189, 'bli'), (4190, 'eterno'), (4191, 'digniti'), (4192, 'escapar'), (4193, 'depui'), (4194, 'adventur'), (4195, 'depart'), (4196, 'letra'), (4197, 'mulher'), (4198, 'lawn'), (4199, 'får'), (4200, 'essenc'), (4201, 'fr'), (4202, 'paus'), (4203, 'caminar'), (4204, 'outra'), (4205, 'tut'), (4206, 'sil'), (4207, 'preciso'), (4208, 'obscur'), (4209, 'się'), (4210, 'smack'), (4211, 'slut'), (4212, 'childhood'), (4213, 'gå'), (4214, 'memoria'), (4215, 'lipstick'), (4216, 'shinin'), (4217, 'photo'), (4218, 'enchant'), (4219, 'tocar'), (4220, 'hei'), (4221, 'ira'), (4222, 'farther'), (4223, 'sport'), (4224, 'gasolin'), (4225, 'enää'), (4226, 'latest'), (4227, 'rosi'), (4228, 'guardo'), (4229, 'fiend'), (4230, 'concentr'), (4231, 'mina'), (4232, 'palac'), (4233, 'aboard'), (4234, 'strife'), (4235, 'lágrima'), (4236, 'llora'), (4237, 'anchor'), (4238, 'dreamt'), (4239, 'corn'), (4240, 'clay'), (4241, 'déjà'), (4242, 'café'), (4243, 'dah'), (4244, 'dizzi'), (4245, 'spray'), (4246, 'messiah'), (4247, 'voix'), (4248, 'brake'), (4249, 'pleur'), (4250, 'cafe'), (4251, 'sum'), (4252, 'pet'), (4253, 'jade'), (4254, 'combin'), (4255, 'può'), (4256, 'tod'), (4257, 'hur'), (4258, 'hogi'), (4259, 'apathi'), (4260, 'desol'), (4261, 'crippl'), (4262, 'axe'), (4263, 'rabbit'), (4264, 'sanctuari'), (4265, 'valor'), (4266, 'transform'), (4267, 'uniform'), (4268, 'confront'), (4269, 'swift'), (4270, 'barrel'), (4271, 'filth'), (4272, 'vrai'), (4273, 'entonc'), (4274, 'lune'), (4275, 'masquerad'), (4276, 'mississippi'), (4277, 'chime'), (4278, '50'), (4279, 'railroad'), (4280, 'qua'), (4281, 'llego'), (4282, 'actual'), (4283, 'shoulda'), (4284, 'gloom'), (4285, 'escond'), (4286, 'perd'), (4287, '15'), (4288, 'jama'), (4289, 'conoc'), (4290, 'aaah'), (4291, 'abr'), (4292, 'don`t'), (4293, 'blut'), (4294, 'inn'), (4295, 'phantom'), (4296, 'appeal'), (4297, 'plug'), (4298, 'vaniti'), (4299, 'poni'), (4300, 'mainten'), (4301, 'cristal'), (4302, 'fearless'), (4303, 'stitch'), (4304, 'fragment'), (4305, 'clutch'), (4306, 'pecho'), (4307, '30'), (4308, 'squad'), (4309, 'cambio'), (4310, 'makeup'), (4311, 'stalk'), (4312, 'surf'), (4313, 'outer'), (4314, 'basement'), (4315, 'obscen'), (4316, 'gehn'), (4317, 'passé'), (4318, 'fiddl'), (4319, 'steve'), (4320, 'boulevard'), (4321, 'chart'), (4322, 'arrang'), (4323, 'increas'), (4324, 'septemb'), (4325, 'i`m'), (4326, 'rua'), (4327, 'endlich'), (4328, 'weer'), (4329, 'guitarra'), (4330, 'leve'), (4331, 'evolut'), (4332, 'wooden'), (4333, 'querert'), (4334, 'vraiment'), (4335, 'kickin'), (4336, 'unter'), (4337, 'logic'), (4338, '40'), (4339, 'toma'), (4340, 'feat'), (4341, 'gotten'), (4342, 'tryna'), (4343, 'mire'), (4344, 'esser'), (4345, 'hid'), (4346, 'wasteland'), (4347, 'fighter'), (4348, 'då'), (4349, 'husband'), (4350, 'jumpin'), (4351, 'suo'), (4352, 'machen'), (4353, 'pathet'), (4354, 'pasión'), (4355, 'maim'), (4356, 'program'), (4357, 'demasiado'), (4358, 'majesti'), (4359, 'retreat'), (4360, 'appreci'), (4361, 'daze'), (4362, 'challeng'), (4363, 'queria'), (4364, 'letzt'), (4365, 'nosotro'), (4366, 'sogno'), (4367, 'ku'), (4368, 'subject'), (4369, 'standard'), (4370, 'troppo'), (4371, 'jazz'), (4372, 'opportun'), (4373, 'sehn'), (4374, 'miser'), (4375, 'col'), (4376, 'legion'), (4377, 'submit'), (4378, 'qualquer'), (4379, 'cough'), (4380, 'medio'), (4381, 'teen'), (4382, 'wilder'), (4383, 'sed'), (4384, 'peau'), (4385, 'pone'), (4386, 'studi'), (4387, 'dije'), (4388, 'jacket'), (4389, 'overflow'), (4390, 'vient'), (4391, 'suprem'), (4392, 'butcher'), (4393, 'balloon'), (4394, 'pushin'), (4395, 'mnie'), (4396, 'tradit'), (4397, 'pane'), (4398, 'c\\x9cur'), (4399, 'stomp'), (4400, 'alegr'), (4401, 'judgment'), (4402, 'industri'), (4403, 'jugar'), (4404, 'introduc'), (4405, 'lai'), (4406, 'esquina'), (4407, 'venir'), (4408, 'iba'), (4409, 'taint'), (4410, 'pude'), (4411, 'counti'), (4412, 'fleet'), (4413, 'sinä'), (4414, 'rêves'), (4415, 'allah'), (4416, 'groovi'), (4417, 'sogni'), (4418, 'chrome'), (4419, 'blah'), (4420, 'genocid'), (4421, 'kalt'), (4422, '\\x96'), (4423, 'unreal'), (4424, 'slumber'), (4425, 'thiev'), (4426, 'frank'), (4427, 'id'), (4428, 'lurk'), (4429, 'unhappi'), (4430, 'ihm'), (4431, 'morena'), (4432, 'chico'), (4433, 'dusk'), (4434, 'cuatro'), (4435, 'lap'), (4436, 'sve'), (4437, 'dynamit'), (4438, 'blick'), (4439, 'twin'), (4440, 'muer'), (4441, 'dub'), (4442, 'yi'), (4443, 'thirsti'), (4444, 'skirt'), (4445, 'hopin'), (4446, 'predict'), (4447, 'heroin'), (4448, 'escucha'), (4449, 'ormai'), (4450, 'wonderland'), (4451, 'scari'), (4452, 'steer'), (4453, 'genau'), (4454, 'besoin'), (4455, 'ana'), (4456, 'llanto'), (4457, 'screamin'), (4458, 'routin'), (4459, 'contr'), (4460, 'tooth'), (4461, 'paura'), (4462, 'sopra'), (4463, 'perdida'), (4464, 'vuela'), (4465, 'fuori'), (4466, 'eden'), (4467, 'pierdo'), (4468, 'remedi'), (4469, 'cloudi'), (4470, 'adam'), (4471, 'raison'), (4472, 'perro'), (4473, 'amus'), (4474, 'closet'), (4475, 'tuve'), (4476, 'ner'), (4477, 'ano'), (4478, 'western'), (4479, 'ness'), (4480, 'piedra'), (4481, 'amiga'), (4482, 'beef'), (4483, 'aprè'), (4484, 'featur'), (4485, 'robin'), (4486, 'decad'), (4487, 'qued'), (4488, 'bald'), (4489, 'wollt'), (4490, 'neue'), (4491, 'whine'), (4492, 'chees'), (4493, 'feu'), (4494, 'aprend'), (4495, 'dish'), (4496, 'leva'), (4497, 'brauch'), (4498, 'misunderstood'), (4499, 'misti'), (4500, 'diferent'), (4501, 'habla'), (4502, 'når'), (4503, 'psycho'), (4504, 'spotlight'), (4505, 'reviv'), (4506, 'suitcas'), (4507, 'freund'), (4508, 'damnat'), (4509, 'duda'), (4510, 'etwa'), (4511, 'geld'), (4512, 'stadt'), (4513, 'cunt'), (4514, 'mellow'), (4515, 'poetri'), (4516, 'lumièr'), (4517, 'bean'), (4518, 'print'), (4519, 'confin'), (4520, 'kommen'), (4521, 'domani'), (4522, 'correr'), (4523, 'perman'), (4524, 'strada'), (4525, 'inhal'), (4526, 'idl'), (4527, 'juro'), (4528, 'allen'), (4529, 'upp'), (4530, 'statu'), (4531, 'bluebird'), (4532, 'uniti'), (4533, 'sitä'), (4534, 'reckless'), (4535, 'robe'), (4536, 'leer'), (4537, 'lhe'), (4538, 'vite'), (4539, 'modo'), (4540, 'menschen'), (4541, 'voltar'), (4542, 'incred'), (4543, 'aujourdhui'), (4544, 'anticip'), (4545, 'etc'), (4546, 'pensamiento'), (4547, 'estc'), (4548, 'keinen'), (4549, 'kimi'), (4550, 'raindrop'), (4551, 'puzzl'), (4552, 'chemin'), (4553, 'lindo'), (4554, 'wax'), (4555, 'foss'), (4556, 'junk'), (4557, 'veut'), (4558, 'kaiken'), (4559, 'contempl'), (4560, 'skeleton'), (4561, 'caso'), (4562, 'wollen'), (4563, 'ruido'), (4564, 'grade'), (4565, 'leau'), (4566, '‘caus'), (4567, 'effort'), (4568, 'dêtre'), (4569, 'hippi'), (4570, 'fil'), (4571, 'curv'), (4572, 'dabei'), (4573, 'nossa'), (4574, 'eventu'), (4575, 'recordar'), (4576, 'disconnect'), (4577, 'carol'), (4578, 'strung'), (4579, 'infierno'), (4580, 'daß'), (4581, 'cousin'), (4582, 'radiat'), (4583, 'pal'), (4584, 'stiff'), (4585, 'trend'), (4586, 'lento'), (4587, 'aqu'), (4588, 'terrifi'), (4589, 'fore'), (4590, 'vide'), (4591, 'belov'), (4592, 'channel'), (4593, 'joli'), (4594, 'parc'), (4595, 'vuol'), (4596, 'então'), (4597, 'stern'), (4598, 'cope'), (4599, 'garbag'), (4600, 'admir'), (4601, 'blister'), (4602, 'sull'), (4603, 'mão'), (4604, 'odio'), (4605, 'pitch'), (4606, 'carn'), (4607, 'slippin'), (4608, 'dong'), (4609, 'seus'), (4610, 'we’r'), (4611, 'debo'), (4612, 'honki'), (4613, 'shark'), (4614, 'cari'), (4615, 'afar'), (4616, 'jest'), (4617, 'superman'), (4618, 'pu'), (4619, 'ust'), (4620, 'sublim'), (4621, 'hiphop'), (4622, 'ident'), (4623, 'ge'), (4624, 'billion'), (4625, 'rocknrol'), (4626, 'punto'), (4627, 'oon'), (4628, 'romeo'), (4629, 'geen'), (4630, 'banana'), (4631, 'escuchar'), (4632, 'richard'), (4633, 'livet'), (4634, 'jung'), (4635, 'fiel'), (4636, 'noos'), (4637, 'beggin'), (4638, 'trunk'), (4639, 'ink'), (4640, 'mash'), (4641, 'succeed'), (4642, 'toni'), (4643, 'bi'), (4644, 'spinnin'), (4645, 'powder'), (4646, 'despierto'), (4647, 'fou'), (4648, 'motherfuckin'), (4649, 'hun'), (4650, 'butter'), (4651, 'fatto'), (4652, 'manchmal'), (4653, 'llevar'), (4654, 'fur'), (4655, 'disagre'), (4656, 'voll'), (4657, 'assur'), (4658, 'från'), (4659, 'savoir'), (4660, 'horizont'), (4661, 'carnav'), (4662, 'you´r'), (4663, 'drunken'), (4664, 'tuck'), (4665, 'keeper'), (4666, 'broad'), (4667, 'maid'), (4668, 'flock'), (4669, 'déjame'), (4670, 'gib'), (4671, 'tellement'), (4672, 'vieux'), (4673, 'tango'), (4674, 'bailando'), (4675, 'larm'), (4676, 'berlin'), (4677, 'handsom'), (4678, 'gefühl'), (4679, 'blunt'), (4680, 'qual'), (4681, 'inject'), (4682, 'timeless'), (4683, 'schwer'), (4684, 'gi'), (4685, 'cor'), (4686, 'bonni'), (4687, 'clone'), (4688, 'allí'), (4689, 'mall'), (4690, 'wink'), (4691, 'blanca'), (4692, 'sinto'), (4693, 'mirando'), (4694, 'meaningless'), (4695, 'nessuno'), (4696, 'laat'), (4697, 'crap'), (4698, 'legal'), (4699, 'hypocrit'), (4700, 'hermano'), (4701, 'pasion'), (4702, 'aid'), (4703, 'brooklyn'), (4704, 'donc'), (4705, 'jak'), (4706, 'delus'), (4707, 'term'), (4708, 'primera'), (4709, 'pourtant'), (4710, 'layin'), (4711, 'conceiv'), (4712, 'seel'), (4713, 'devast'), (4714, 'slick'), (4715, 'vega'), (4716, 'pluie'), (4717, 'tax'), (4718, 'frío'), (4719, 'ty'), (4720, 'virtu'), (4721, 'lontano'), (4722, 'unabl'), (4723, 'distress'), (4724, 'bla'), (4725, 'ember'), (4726, 'wee'), (4727, 'mmmm'), (4728, 'pedir'), (4729, 'beckon'), (4730, 'galaxi'), (4731, 'diz'), (4732, 'ley'), (4733, 'passo'), (4734, 'mous'), (4735, 'issu'), (4736, 'absurd'), (4737, 'imma'), (4738, 'zoo'), (4739, 'rocki'), (4740, 'pide'), (4741, 'jackson'), (4742, 'neat'), (4743, 'itch'), (4744, 'insect'), (4745, 'starlight'), (4746, 'shred'), (4747, '000'), (4748, 'segundo'), (4749, 'nooit'), (4750, 'avait'), (4751, 'bonito'), (4752, 'foundat'), (4753, '13'), (4754, 'mag'), (4755, 'scarlet'), (4756, 'lunch'), (4757, 'cansado'), (4758, 'leak'), (4759, 'près'), (4760, 'bah'), (4761, 'giorni'), (4762, 'siehst'), (4763, 'consol'), (4764, 'flirt'), (4765, 'absenc'), (4766, 'lalala'), (4767, 'comprehend'), (4768, 'hin'), (4769, 'scum'), (4770, 'stride'), (4771, 'fingertip'), (4772, 'lua'), (4773, 'translat'), (4774, 'reput'), (4775, 'starri'), (4776, 'conclus'), (4777, 'pouco'), (4778, 'belt'), (4779, 'alltid'), (4780, 'sig'), (4781, 'tribe'), (4782, 'illumin'), (4783, 'knowin'), (4784, 'weet'), (4785, 'forg'), (4786, 'minor'), (4787, 'behav'), (4788, 'oli'), (4789, 'croir'), (4790, 'troi'), (4791, 'passer'), (4792, 'dautr'), (4793, 'vela'), (4794, 'anyhow'), (4795, 'mock'), (4796, 'habrá'), (4797, 'bir'), (4798, 'espejo'), (4799, 'intens'), (4800, 'saddl'), (4801, 'glue'), (4802, 'rendezv'), (4803, 'cd'), (4804, 'kai'), (4805, 'mío'), (4806, 'tô'), (4807, 'rave'), (4808, 'dimmi'), (4809, 'retir'), (4810, 'vara'), (4811, 'molli'), (4812, 'forbidden'), (4813, 'combat'), (4814, 'trippin'), (4815, 'ingent'), (4816, 'deepli'), (4817, 'puttin'), (4818, 'silk'), (4819, 'paranoia'), (4820, 'weißt'), (4821, 'whirl'), (4822, 'duti'), (4823, 'quedan'), (4824, 'adentro'), (4825, 'ditch'), (4826, 'shave'), (4827, 'esté'), (4828, 'sicken'), (4829, 'premier'), (4830, 'bleib'), (4831, 'reliev'), (4832, 'restor'), (4833, 'unawar'), (4834, 'quella'), (4835, 'dash'), (4836, 'gore'), (4837, 'acabar'), (4838, 'kissin'), (4839, 'indiffer'), (4840, 'temperatur'), (4841, 'messin'), (4842, 'río'), (4843, 'rumbl'), (4844, 'argu'), (4845, 'freeway'), (4846, 'mutta'), (4847, 'vuelto'), (4848, 'manipul'), (4849, 'annihil'), (4850, 'mek'), (4851, 'unspoken'), (4852, 'passag'), (4853, 'minuto'), (4854, 'fora'), (4855, 'cosmic'), (4856, 'despierta'), (4857, 'betti'), (4858, 'request'), (4859, 'pudiera'), (4860, 'bucket'), (4861, 'proper'), (4862, 'ace'), (4863, 'gritar'), (4864, 'puro'), (4865, 'gown'), (4866, 'chapter'), (4867, 'digit'), (4868, 'actor'), (4869, 'cambia'), (4870, 'prendr'), (4871, 'creator'), (4872, 'skate'), (4873, 'askin'), (4874, 'difícil'), (4875, 'flown'), (4876, 'nurs'), (4877, 'sim'), (4878, 'waist'), (4879, 'gleich'), (4880, 'saben'), (4881, 'collar'), (4882, 'joue'), (4883, 'demai'), (4884, 'current'), (4885, 'naiv'), (4886, 'flaw'), (4887, '16'), (4888, 'doigt'), (4889, 'olvida'), (4890, 'comb'), (4891, 'headlight'), (4892, 'diablo'), (4893, 'suav'), (4894, 'ascend'), (4895, 'cree'), (4896, 'vete'), (4897, 'pledg'), (4898, 'mistaken'), (4899, 'method'), (4900, 'vagu'), (4901, 'dura'), (4902, 'voit'), (4903, 'maiden'), (4904, 'sangu'), (4905, 'ando'), (4906, 'element'), (4907, 'cae'), (4908, 'entir'), (4909, 'alleluia'), (4910, 'oft'), (4911, 'intox'), (4912, 'besser'), (4913, 'pueden'), (4914, 'rug'), (4915, 'aura'), (4916, 'guest'), (4917, 'chamber'), (4918, 'sere'), (4919, 'jukebox'), (4920, 'skinni'), (4921, 'wissen'), (4922, 'holla'), (4923, 'cherch'), (4924, 'hurtin'), (4925, 'eager'), (4926, 'hij'), (4927, 'tenemo'), (4928, 'dedo'), (4929, 'droit'), (4930, 'glisten'), (4931, 'assassin'), (4932, 'landscap'), (4933, 'alleen'), (4934, 'mutil'), (4935, 'seein'), (4936, 'senseless'), (4937, 'golp'), (4938, 'lili'), (4939, 'canâ\\x80\\x99t'), (4940, 'jaurai'), (4941, 'auto'), (4942, 'kvar'), (4943, 'structur'), (4944, 'assum'), (4945, 'veneno'), (4946, 'spawn'), (4947, 'proclaim'), (4948, 'threaten'), (4949, 'distancia'), (4950, 'magia'), (4951, 'swirl'), (4952, 'curious'), (4953, 'complex'), (4954, 'uptown'), (4955, '100'), (4956, 'advanc'), (4957, 'alegría'), (4958, 'empieza'), (4959, 'hah'), (4960, 'dug'), (4961, 'aquello'), (4962, 'lucif'), (4963, 'cruz'), (4964, 'jamaica'), (4965, 'flavor'), (4966, 'kuinka'), (4967, 'uit'), (4968, '24'), (4969, 'anguish'), (4970, 'foto'), (4971, 'chat'), (4972, 'jétai'), (4973, 'caminho'), (4974, 'observ'), (4975, 'altro'), (4976, 'javai'), (4977, 'yang'), (4978, 'oer'), (4979, 'nickel'), (4980, 'booz'), (4981, 'sew'), (4982, 'música'), (4983, 'stai'), (4984, 'naughti'), (4985, 'entiendo'), (4986, 'står'), (4987, 'champion'), (4988, 'forsak'), (4989, 'seventh'), (4990, 'capit'), (4991, 'writer'), (4992, 'motivo'), (4993, 'bake'), (4994, 'insist'), (4995, 'wel'), (4996, 'santo'), (4997, 'pe'), (4998, 'gee'), (4999, 'colleg'), (5000, 'kad')]\n"
     ]
    },
    {
     "name": "stderr",
     "output_type": "stream",
     "text": [
      "C:\\Users\\bjorn.persson\\AppData\\Local\\Continuum\\miniconda3\\envs\\mdhEnv2\\lib\\site-packages\\ipykernel_launcher.py:21: ParserWarning: Falling back to the 'python' engine because the 'c' engine does not support regex separators (separators > 1 char and different from '\\s+' are interpreted as regex); you can avoid this warning by specifying engine='python'.\n"
     ]
    }
   ],
   "source": [
    "#Featue construction:\n",
    "\n",
    "#get the wordlist:\n",
    "word_rows = raw_data_test.filter(lambda x: '%' in x).map(lambda x: x.split(\",\"))\n",
    "\n",
    "wordList=word_rows.collect()[1]\n",
    "wordList[0]=wordList[0][1:] #remove the \"%\"\n",
    "\n",
    "numWords=len(wordList)\n",
    "print(len(wordList))\n",
    "\n",
    "#+1 because musicXmatch data is indexed starting from 1\n",
    "wordListWithInd=[(i+1,w) for i,w in enumerate(wordList)]\n",
    "print(wordListWithInd)\n",
    "\n",
    "\n",
    "import pandas as pd\n",
    "\n",
    "#to remove the normalization of the 5k words/\"clean\" them:\n",
    "fname=dataPath+\"mxm_reverse_mapping.txt\" #found this here: http://millionsongdataset.com/sites/default/files/mxm_reverse_mapping.txt\n",
    "dfRevMap=pd.read_csv(fname,sep='<SEP>',names=['normalized','Not Normalized'])\n",
    "revNormDict={n:un for n,un in zip(dfRevMap['normalized'],dfRevMap['Not Normalized'] )}\n",
    "wordListClean = [revNormDict.get(w,w) for w in wordList]\n"
   ]
  },
  {
   "cell_type": "code",
   "execution_count": 4,
   "metadata": {},
   "outputs": [
    {
     "data": {
      "text/plain": [
       "'\\n#now get google to tell me which language the words come from:\\nimport googletrans\\ngt=googletrans.Translator()\\n\\nt0=time()\\nwordListWithIndAndTransInfo=[]\\nfailCount=0\\nfor i,w in enumerate(wordListClean):\\n    print(i)\\n    if failCount>5:#if google thinks im too heavy\\n        break\\n    sleep(2)#to not let google think im too heavy\\n    try:\\n        res=gt.detect(w)\\n        wordListWithIndAndTransInfo.append([i+1,w,res.lang,res.confidence])\\n        failCount=0\\n    except:\\n        wordListWithIndAndTransInfo.append([i+1,w,\\'?\\',0])\\n        failCount+=1\\n\\nt1=time()\\npprint(wordListWithIndAndTransInfo)\\npprint(t1-t0)\\n\\nfname=xtraDataPath+\"RESLang5000WordsClean.txt\"\\nwith open(fname, \"w+\", encoding=\"utf-8\") as f:\\n    for k in range(len(wordListWithIndAndTransInfo)):\\n        str2Write=str(wordListWithIndAndTransInfo[k][0])+\\',\\'        +wordListWithIndAndTransInfo[k][1]+\\',\\'        +wordListWithIndAndTransInfo[k][2]+\\',\\'        +str(wordListWithIndAndTransInfo[k][3])+\\'\\n\\'\\n        f.write(str2Write)\\n'"
      ]
     },
     "execution_count": 4,
     "metadata": {},
     "output_type": "execute_result"
    }
   ],
   "source": [
    "from time import time, sleep\n",
    "from pprint import pprint\n",
    "\n",
    "#remove this comment if you want to wait for googles answer about language for 5k words\n",
    "#otherwise just load it in the next cell!\n",
    "'''\n",
    "#now get google to tell me which language the words come from:\n",
    "import googletrans\n",
    "gt=googletrans.Translator()\n",
    "\n",
    "t0=time()\n",
    "wordListWithIndAndTransInfo=[]\n",
    "failCount=0\n",
    "for i,w in enumerate(wordListClean):\n",
    "    print(i)\n",
    "    if failCount>5:#if google thinks im too heavy\n",
    "        break\n",
    "    sleep(2)#to not let google think im too heavy\n",
    "    try:\n",
    "        res=gt.detect(w)\n",
    "        wordListWithIndAndTransInfo.append([i+1,w,res.lang,res.confidence])\n",
    "        failCount=0\n",
    "    except:\n",
    "        wordListWithIndAndTransInfo.append([i+1,w,'?',0])\n",
    "        failCount+=1\n",
    "\n",
    "t1=time()\n",
    "pprint(wordListWithIndAndTransInfo)\n",
    "pprint(t1-t0)\n",
    "\n",
    "fname=xtraDataPath+\"RESLang5000WordsClean.txt\"\n",
    "with open(fname, \"w+\", encoding=\"utf-8\") as f:\n",
    "    for k in range(len(wordListWithIndAndTransInfo)):\n",
    "        str2Write=str(wordListWithIndAndTransInfo[k][0])+','\\\n",
    "        +wordListWithIndAndTransInfo[k][1]+','\\\n",
    "        +wordListWithIndAndTransInfo[k][2]+','\\\n",
    "        +str(wordListWithIndAndTransInfo[k][3])+'\\n'\n",
    "        f.write(str2Write)\n",
    "'''"
   ]
  },
  {
   "cell_type": "code",
   "execution_count": 5,
   "metadata": {},
   "outputs": [
    {
     "data": {
      "text/plain": [
       "{'af',\n",
       " 'ar',\n",
       " 'arzh-CN',\n",
       " 'az',\n",
       " 'azja',\n",
       " 'bg',\n",
       " 'bn',\n",
       " 'bs',\n",
       " 'bshr',\n",
       " 'ca',\n",
       " 'cagl',\n",
       " 'cs',\n",
       " 'cy',\n",
       " 'da',\n",
       " 'dano',\n",
       " 'dasv',\n",
       " 'de',\n",
       " 'dear',\n",
       " 'denl',\n",
       " 'dezh-CN',\n",
       " 'el',\n",
       " 'en',\n",
       " 'es',\n",
       " 'esar',\n",
       " 'esbg',\n",
       " 'esbn',\n",
       " 'esfr',\n",
       " 'esgl',\n",
       " 'esit',\n",
       " 'esja',\n",
       " 'espt',\n",
       " 'esro',\n",
       " 'essq',\n",
       " 'esvi',\n",
       " 'et',\n",
       " 'fi',\n",
       " 'fiet',\n",
       " 'fr',\n",
       " 'frde',\n",
       " 'frel',\n",
       " 'fres',\n",
       " 'frit',\n",
       " 'ga',\n",
       " 'gl',\n",
       " 'hi',\n",
       " 'htfr',\n",
       " 'hu',\n",
       " 'id',\n",
       " 'ides',\n",
       " 'is',\n",
       " 'it',\n",
       " 'itbg',\n",
       " 'itde',\n",
       " 'ites',\n",
       " 'itfr',\n",
       " 'itpt',\n",
       " 'ja',\n",
       " 'jazh-CN',\n",
       " 'ku',\n",
       " 'la',\n",
       " 'lt',\n",
       " 'lv',\n",
       " 'mi',\n",
       " 'ms',\n",
       " 'mt',\n",
       " 'nl',\n",
       " 'nlar',\n",
       " 'nlde',\n",
       " 'no',\n",
       " 'noda',\n",
       " 'nosv',\n",
       " 'pl',\n",
       " 'pt',\n",
       " 'ptel',\n",
       " 'ptes',\n",
       " 'ptfr',\n",
       " 'ptit',\n",
       " 'ptvi',\n",
       " 'ro',\n",
       " 'rofr',\n",
       " 'ropt',\n",
       " 'ru',\n",
       " 'sk',\n",
       " 'sktl',\n",
       " 'sl',\n",
       " 'so',\n",
       " 'sq',\n",
       " 'sv',\n",
       " 'svda',\n",
       " 'svja',\n",
       " 'svno',\n",
       " 'sw',\n",
       " 'tl',\n",
       " 'tlen',\n",
       " 'tr',\n",
       " 'trar',\n",
       " 'trzh-CN',\n",
       " 'uz',\n",
       " 'vi',\n",
       " 'zh-CN'}"
      ]
     },
     "execution_count": 5,
     "metadata": {},
     "output_type": "execute_result"
    }
   ],
   "source": [
    "#get the list of languages used,\n",
    "#see that some are merged - need to un-merge!,\n",
    "fname=xtraDataPath+\"RESLang5000WordsClean.txt\"\n",
    "wordDFWithIndAndTransInfo=pd.read_csv(fname,sep=',',names=['wordIndex','word','rawLang','conf'])\n",
    "\n",
    "#want to change \\zh-CH\\ which google translate give me to \\zh\\ which is an ISO639-1 code,\n",
    "rawUsedLangSet=set(wordDFWithIndAndTransInfo['rawLang'])\n",
    "rawUsedLangSet\n"
   ]
  },
  {
   "cell_type": "code",
   "execution_count": 10,
   "metadata": {},
   "outputs": [
    {
     "data": {
      "text/html": [
       "<div>\n",
       "<style scoped>\n",
       "    .dataframe tbody tr th:only-of-type {\n",
       "        vertical-align: middle;\n",
       "    }\n",
       "\n",
       "    .dataframe tbody tr th {\n",
       "        vertical-align: top;\n",
       "    }\n",
       "\n",
       "    .dataframe thead th {\n",
       "        text-align: right;\n",
       "    }\n",
       "</style>\n",
       "<table border=\"1\" class=\"dataframe\">\n",
       "  <thead>\n",
       "    <tr style=\"text-align: right;\">\n",
       "      <th></th>\n",
       "      <th>Language</th>\n",
       "      <th>ISO-639-1_Code</th>\n",
       "      <th>Note</th>\n",
       "    </tr>\n",
       "  </thead>\n",
       "  <tbody>\n",
       "    <tr>\n",
       "      <td>0</td>\n",
       "      <td>Afrikaans</td>\n",
       "      <td>af</td>\n",
       "      <td>NaN</td>\n",
       "    </tr>\n",
       "    <tr>\n",
       "      <td>1</td>\n",
       "      <td>Albanian</td>\n",
       "      <td>sq</td>\n",
       "      <td>NaN</td>\n",
       "    </tr>\n",
       "    <tr>\n",
       "      <td>2</td>\n",
       "      <td>Amharic</td>\n",
       "      <td>am</td>\n",
       "      <td>NaN</td>\n",
       "    </tr>\n",
       "    <tr>\n",
       "      <td>3</td>\n",
       "      <td>Arabic</td>\n",
       "      <td>ar</td>\n",
       "      <td>NaN</td>\n",
       "    </tr>\n",
       "    <tr>\n",
       "      <td>4</td>\n",
       "      <td>Armenian</td>\n",
       "      <td>hy</td>\n",
       "      <td>NaN</td>\n",
       "    </tr>\n",
       "    <tr>\n",
       "      <td>...</td>\n",
       "      <td>...</td>\n",
       "      <td>...</td>\n",
       "      <td>...</td>\n",
       "    </tr>\n",
       "    <tr>\n",
       "      <td>99</td>\n",
       "      <td>Welsh</td>\n",
       "      <td>cy</td>\n",
       "      <td>NaN</td>\n",
       "    </tr>\n",
       "    <tr>\n",
       "      <td>100</td>\n",
       "      <td>Xhosa</td>\n",
       "      <td>xh</td>\n",
       "      <td>NaN</td>\n",
       "    </tr>\n",
       "    <tr>\n",
       "      <td>101</td>\n",
       "      <td>Yiddish</td>\n",
       "      <td>yi</td>\n",
       "      <td>NaN</td>\n",
       "    </tr>\n",
       "    <tr>\n",
       "      <td>102</td>\n",
       "      <td>Yoruba</td>\n",
       "      <td>yo</td>\n",
       "      <td>NaN</td>\n",
       "    </tr>\n",
       "    <tr>\n",
       "      <td>103</td>\n",
       "      <td>Zulu</td>\n",
       "      <td>zu</td>\n",
       "      <td>NaN</td>\n",
       "    </tr>\n",
       "  </tbody>\n",
       "</table>\n",
       "<p>104 rows × 3 columns</p>\n",
       "</div>"
      ],
      "text/plain": [
       "      Language  ISO-639-1_Code  Note\n",
       "0    Afrikaans              af   NaN\n",
       "1     Albanian              sq   NaN\n",
       "2      Amharic              am   NaN\n",
       "3       Arabic              ar   NaN\n",
       "4     Armenian              hy   NaN\n",
       "..          ...            ...   ...\n",
       "99       Welsh              cy   NaN\n",
       "100      Xhosa              xh   NaN\n",
       "101    Yiddish              yi   NaN\n",
       "102     Yoruba              yo   NaN\n",
       "103       Zulu              zu   NaN\n",
       "\n",
       "[104 rows x 3 columns]"
      ]
     },
     "execution_count": 10,
     "metadata": {},
     "output_type": "execute_result"
    }
   ],
   "source": [
    "#from https://cloud.google.com/translate/docs/languages\n",
    "#needed to edit manually because never get \"jv\" from google translate but I do get \"jw\"\n",
    "fname2=xtraDataPath+\"GT_Language_support_edited.txt\"\n",
    "GTlangCodes639_1PLUS=pd.read_csv(fname2,sep='\\t')\n",
    "GTlangCodes639_1PLUS\n",
    "\n"
   ]
  },
  {
   "cell_type": "code",
   "execution_count": 11,
   "metadata": {},
   "outputs": [
    {
     "data": {
      "text/plain": [
       "104"
      ]
     },
     "execution_count": 11,
     "metadata": {},
     "output_type": "execute_result"
    }
   ],
   "source": [
    "\n",
    "authorativeLangSet=set(GTlangCodes639_1PLUS['ISO-639-1_Code'])\n",
    "numLangTot=len(authorativeLangSet)\n",
    "numLangTot"
   ]
  },
  {
   "cell_type": "code",
   "execution_count": 12,
   "metadata": {},
   "outputs": [
    {
     "name": "stdout",
     "output_type": "stream",
     "text": [
      "didnt find dear\n",
      "didnt find ites\n",
      "found tr\n",
      "didnt find trzh-CN\n",
      "didnt find dano\n",
      "didnt find esit\n",
      "didnt find arzh-CN\n",
      "found ro\n",
      "found sl\n",
      "found so\n",
      "didnt find ptfr\n",
      "found sq\n",
      "didnt find dasv\n",
      "didnt find esgl\n",
      "didnt find frde\n",
      "didnt find itbg\n",
      "found ar\n",
      "didnt find esbg\n",
      "didnt find sktl\n",
      "found da\n",
      "found af\n",
      "didnt find nlde\n",
      "didnt find itfr\n",
      "found en\n",
      "found bs\n",
      "didnt find svno\n",
      "found uz\n",
      "didnt find dezh-CN\n",
      "found sv\n",
      "didnt find esar\n",
      "didnt find ropt\n",
      "didnt find esfr\n",
      "found el\n",
      "didnt find itde\n",
      "didnt find ptel\n",
      "didnt find itpt\n",
      "didnt find cagl\n",
      "found vi\n",
      "didnt find ides\n",
      "didnt find bshr\n",
      "didnt find noda\n",
      "didnt find fres\n",
      "didnt find rofr\n",
      "didnt find esro\n",
      "found zh-CN\n",
      "didnt find fiet\n",
      "found cs\n",
      "found la\n",
      "didnt find htfr\n",
      "found pl\n",
      "found gl\n",
      "found pt\n",
      "found ku\n",
      "found lv\n",
      "didnt find denl\n",
      "found it\n",
      "didnt find esbn\n",
      "didnt find ptes\n",
      "found cy\n",
      "found az\n",
      "didnt find tlen\n",
      "didnt find esvi\n",
      "found is\n",
      "found ca\n",
      "found et\n",
      "found lt\n",
      "found tl\n",
      "didnt find frel\n",
      "didnt find azja\n",
      "found hu\n",
      "didnt find trar\n",
      "didnt find jazh-CN\n",
      "found hi\n",
      "didnt find nlar\n",
      "found bg\n",
      "didnt find ptvi\n",
      "found bn\n",
      "found fi\n",
      "didnt find espt\n",
      "found sw\n",
      "didnt find nosv\n",
      "found mi\n",
      "found ja\n",
      "found es\n",
      "found id\n",
      "found ru\n",
      "didnt find essq\n",
      "found fr\n",
      "found de\n",
      "found ga\n",
      "found sk\n",
      "didnt find ptit\n",
      "didnt find svja\n",
      "didnt find frit\n",
      "found nl\n",
      "didnt find svda\n",
      "found ms\n",
      "found mt\n",
      "found no\n",
      "didnt find esja\n"
     ]
    }
   ],
   "source": [
    "#googletrans sometimes spits back 2 suggestions concatenated - need to break into 2 pieces!\n",
    "\n",
    "for rlnum, rawLang in enumerate(rawUsedLangSet):\n",
    "    if authorativeLangSet.intersection([rawLang])==set():\n",
    "        print('didnt find '+rawLang)\n",
    "    else:\n",
    "        print('found '+rawLang)\n",
    "#will assume a maximum of 2 langs per word!\n"
   ]
  },
  {
   "cell_type": "code",
   "execution_count": 13,
   "metadata": {},
   "outputs": [
    {
     "name": "stdout",
     "output_type": "stream",
     "text": [
      "didnt find dear\n",
      "but there is a match: ar,de\n",
      "didnt find ites\n",
      "but there is a match: it,es\n",
      "found tr\n",
      "didnt find trzh-CN\n",
      "but there is a match: tr,zh-CN\n",
      "didnt find dano\n",
      "but there is a match: da,no\n",
      "didnt find esit\n",
      "but there is a match: it,es\n",
      "didnt find arzh-CN\n",
      "but there is a match: ar,zh-CN\n",
      "found ro\n",
      "found sl\n",
      "found so\n",
      "didnt find ptfr\n",
      "but there is a match: pt,fr\n",
      "found sq\n",
      "didnt find dasv\n",
      "but there is a match: da,sv\n",
      "didnt find esgl\n",
      "but there is a match: gl,es\n",
      "didnt find frde\n",
      "but there is a match: fr,de\n",
      "didnt find itbg\n",
      "but there is a match: it,bg\n",
      "found ar\n",
      "didnt find esbg\n",
      "but there is a match: bg,es\n",
      "didnt find sktl\n",
      "but there is a match: tl,sk\n",
      "found da\n",
      "found af\n",
      "didnt find nlde\n",
      "but there is a match: de,nl\n",
      "didnt find itfr\n",
      "but there is a match: it,fr\n",
      "found en\n",
      "found bs\n",
      "didnt find svno\n",
      "but there is a match: sv,no\n",
      "found uz\n",
      "didnt find dezh-CN\n",
      "but there is a match: zh-CN,de\n",
      "found sv\n",
      "didnt find esar\n",
      "but there is a match: ar,es\n",
      "didnt find ropt\n",
      "but there is a match: ro,pt\n",
      "didnt find esfr\n",
      "but there is a match: es,fr\n",
      "found el\n",
      "didnt find itde\n",
      "but there is a match: it,de\n",
      "didnt find ptel\n",
      "but there is a match: el,pt\n",
      "didnt find itpt\n",
      "but there is a match: pt,it\n",
      "didnt find cagl\n",
      "but there is a match: gl,ca\n",
      "found vi\n",
      "didnt find ides\n",
      "but there is a match: es,id\n",
      "didnt find bshr\n",
      "but there is a match: bs,hr\n",
      "didnt find noda\n",
      "but there is a match: da,no\n",
      "didnt find fres\n",
      "but there is a match: es,fr\n",
      "didnt find rofr\n",
      "but there is a match: ro,fr\n",
      "didnt find esro\n",
      "but there is a match: ro,es\n",
      "found zh-CN\n",
      "didnt find fiet\n",
      "but there is a match: et,fi\n",
      "found cs\n",
      "found la\n",
      "didnt find htfr\n",
      "but there is a match: ht,fr\n",
      "found pl\n",
      "found gl\n",
      "found pt\n",
      "found ku\n",
      "found lv\n",
      "didnt find denl\n",
      "but there is a match: de,nl\n",
      "found it\n",
      "didnt find esbn\n",
      "but there is a match: bn,es\n",
      "didnt find ptes\n",
      "but there is a match: pt,es\n",
      "found cy\n",
      "found az\n",
      "didnt find tlen\n",
      "but there is a match: en,tl\n",
      "didnt find esvi\n",
      "but there is a match: vi,es\n",
      "found is\n",
      "found ca\n",
      "found et\n",
      "found lt\n",
      "found tl\n",
      "didnt find frel\n",
      "but there is a match: el,fr\n",
      "didnt find azja\n",
      "but there is a match: az,ja\n",
      "found hu\n",
      "didnt find trar\n",
      "but there is a match: tr,ar\n",
      "didnt find jazh-CN\n",
      "but there is a match: zh-CN,ja\n",
      "found hi\n",
      "didnt find nlar\n",
      "but there is a match: ar,nl\n",
      "found bg\n",
      "didnt find ptvi\n",
      "but there is a match: vi,pt\n",
      "found bn\n",
      "found fi\n",
      "didnt find espt\n",
      "but there is a match: pt,es\n",
      "found sw\n",
      "didnt find nosv\n",
      "but there is a match: sv,no\n",
      "found mi\n",
      "found ja\n",
      "found es\n",
      "found id\n",
      "found ru\n",
      "didnt find essq\n",
      "but there is a match: sq,es\n",
      "found fr\n",
      "found de\n",
      "found ga\n",
      "found sk\n",
      "didnt find ptit\n",
      "but there is a match: pt,it\n",
      "didnt find svja\n",
      "but there is a match: sv,ja\n",
      "didnt find frit\n",
      "but there is a match: it,fr\n",
      "found nl\n",
      "didnt find svda\n",
      "but there is a match: da,sv\n",
      "found ms\n",
      "found mt\n",
      "found no\n",
      "didnt find esja\n",
      "but there is a match: ja,es\n",
      "\n",
      "\n",
      "'jazh-CN gets split like so:'\n",
      "('zh-CN', 'ja')\n"
     ]
    }
   ],
   "source": [
    "#breaking into languages (when necessary) here:\n",
    "\n",
    "for rlnum, rawLang in enumerate(rawUsedLangSet):\n",
    "    if authorativeLangSet.intersection([rawLang])==set():\n",
    "        print('didnt find '+rawLang)\n",
    "        matchRes=[(w1,w2) for i1,w1 in enumerate(list(authorativeLangSet)[:-1]) \\\n",
    "                  for w2 in list(authorativeLangSet)[i1:] \\\n",
    "                  if (w1+w2==rawLang) or (w2+w1==rawLang)]\n",
    "        print('but there is a match: '+matchRes[0][0]+','+matchRes[0][1])\n",
    "        if len(matchRes)>1:\n",
    "            print('MORE THAN ONE MATCH!!!!')\n",
    "    else:\n",
    "        print('found '+rawLang)\n",
    "\n",
    "lang2SplitDict={}\n",
    "for _, rawLang in enumerate(rawUsedLangSet):\n",
    "    if authorativeLangSet.intersection([rawLang])==set():\n",
    "        matchRes=[(w1,w2) for i1,w1 in enumerate(list(authorativeLangSet)[:-1]) \\\n",
    "                  for w2 in list(authorativeLangSet)[i1:] \\\n",
    "                  if (w1+w2==rawLang) or (w2+w1==rawLang)]\n",
    "        lang2SplitDict.update({rawLang:(matchRes[0][0],matchRes[0][1])})\n",
    "    else:\n",
    "        lang2SplitDict.update({rawLang:(rawLang,None)})\n",
    "\n",
    "#an example:\n",
    "print('\\n')\n",
    "pprint('jazh-CN gets split like so:')\n",
    "pprint(lang2SplitDict['jazh-CN'])\n",
    "\n"
   ]
  },
  {
   "cell_type": "code",
   "execution_count": 14,
   "metadata": {},
   "outputs": [],
   "source": [
    "#some convenience-stuff:\n",
    "\n",
    "wordDFWithIndAndTransInfo['lang1']=\\\n",
    "[lang2SplitDict[w][0] for w in wordDFWithIndAndTransInfo['rawLang']]\n",
    "\n",
    "wordDFWithIndAndTransInfo['lang2']=\\\n",
    "[lang2SplitDict[w][1] for w in wordDFWithIndAndTransInfo['rawLang']]\n",
    "\n",
    "langCode2numDict={c:i for i,c in enumerate(GTlangCodes639_1PLUS['ISO-639-1_Code']) }\n",
    "len([i for i,(w1,w2) in enumerate(zip(wordDFWithIndAndTransInfo['lang1'],wordDFWithIndAndTransInfo['lang2'])) if w1=='en' or w2=='en'])\n",
    "\n",
    "langNum2CodeDict={i:c for i,c in enumerate(GTlangCodes639_1PLUS['ISO-639-1_Code']) }\n",
    "\n",
    "\n",
    "wordDFWithIndAndTransInfo['langCode1']=\\\n",
    "[langCode2numDict[lang2SplitDict[w][0]] for w in wordDFWithIndAndTransInfo['rawLang']]\n",
    "\n",
    "wordDFWithIndAndTransInfo['langCode2']=\\\n",
    "[langCode2numDict[lang2SplitDict[w][1]] if lang2SplitDict[w][1]!=None else None for w in wordDFWithIndAndTransInfo['rawLang'] ]\n",
    "\n",
    "\n",
    "langCode2FullLang={c:l for c,l in zip(GTlangCodes639_1PLUS['ISO-639-1_Code'],GTlangCodes639_1PLUS['Language '])}\n",
    "\n"
   ]
  },
  {
   "cell_type": "code",
   "execution_count": 15,
   "metadata": {},
   "outputs": [
    {
     "data": {
      "text/plain": [
       "'\\n#TR_data = raw_data_test.filter(lambda x: \\'TR\\' in x).map(splitIntoPartsFN)\\n# mds tracks-ids all start \"TR\":\\nTR_data = raw_data_test.filter(lambda x: re.search(\\'^TR.*\\', x)).map(lambda x: x.split(\",\"))\\n\\n#lookHere_rows = TR_data.collect(),\\nlookHere_rows = TR_data.take(3)\\npprint(lookHere_rows)\\n#type(lookHere_rows),\\n#type(TR_data),\\ntype(lookHere_rows)\\ntype(lookHere_rows[1])\\ntype(lookHere_rows[1][2])\\npprint(lookHere_rows[1][2])\\n'"
      ]
     },
     "execution_count": 15,
     "metadata": {},
     "output_type": "execute_result"
    }
   ],
   "source": [
    "\n",
    "#now start looking at songs:\n",
    "\n",
    "#make these broadcasted: (hopeing for efficiency)\n",
    "bvl1 = sc.broadcast(list(wordDFWithIndAndTransInfo['lang1']))\n",
    "bvl2 = sc.broadcast(list(wordDFWithIndAndTransInfo['lang2']))\n",
    "bvc = sc.broadcast(list(wordDFWithIndAndTransInfo['conf']))\n",
    "bvlc1n = sc.broadcast(list(wordDFWithIndAndTransInfo['langCode1']))\n",
    "bvlc2n = sc.broadcast(list(wordDFWithIndAndTransInfo['langCode2']))\n",
    "\n",
    "#this will be used to extract data from each song:\n",
    "def splitIntoPartsFN(nonSplit):\n",
    "    # meant to be unleashed on a record of a songs 2 track id's and sparse representation of\n",
    "    # the songs word count\n",
    "    #\n",
    "    #make a tuple of 2 id's\n",
    "    #and wordIDs and frequencies\n",
    "    firstSplit=[ko for ki in list(map(lambda x:x.split(\",\"),[nonSplit])) for ko in ki]\n",
    "    secondSplit=[ko for ki in list(map(lambda x:x.split(\":\"),firstSplit)) for ko in ki]\n",
    "    id1,id2,wordId,wordCount=secondSplit[0],secondSplit[1],secondSplit[slice(2,None,2)],secondSplit[slice(3,None,2)]\n",
    "    return (id1,id2,wordId,wordCount)\n",
    "    \n",
    "'''\n",
    "#TR_data = raw_data_test.filter(lambda x: 'TR' in x).map(splitIntoPartsFN)\n",
    "# mds tracks-ids all start \"TR\":\n",
    "TR_data = raw_data_test.filter(lambda x: re.search('^TR.*', x)).map(lambda x: x.split(\",\"))\n",
    "\n",
    "#lookHere_rows = TR_data.collect(),\n",
    "lookHere_rows = TR_data.take(3)\n",
    "pprint(lookHere_rows)\n",
    "#type(lookHere_rows),\n",
    "#type(TR_data),\n",
    "type(lookHere_rows)\n",
    "type(lookHere_rows[1])\n",
    "type(lookHere_rows[1][2])\n",
    "pprint(lookHere_rows[1][2])\n",
    "'''\n"
   ]
  },
  {
   "cell_type": "code",
   "execution_count": 16,
   "metadata": {},
   "outputs": [
    {
     "data": {
      "text/plain": [
       "'\\n#writing down winning langs to file:\\nfname=xtraDataPath+\"lyricsLangTrain.txt\"\\nwith open(fname, \"w+\", encoding=\"utf-8\") as f:\\n    for k in range(len(winningNums)):\\n        str2Write=str(winningNums[k])+\\',\\'        +langNum2CodeDict[winningNums[k]]+\\'\\n\\'\\n        f.write(str2Write)\\n'"
      ]
     },
     "execution_count": 16,
     "metadata": {},
     "output_type": "execute_result"
    }
   ],
   "source": [
    "from pyspark.mllib.linalg import Vectors\n",
    "import numpy as np\n",
    "\n",
    "#accumulate confidences for languages per song\n",
    "def getAccumLangConf(listInd):\n",
    "    #get the languages and their coresponging confidence values\n",
    "    #remember that there can be 2 languages that need to share\n",
    "    #i-1 because song indices start from 1\n",
    "    langConf = [(bvlc1n.value[i-1],bvc.value[i-1]/(2 if bvl2.value[i-1]==None else 1)) for i in listInd]+\\\n",
    "    [(int(bvlc2n.value[i-1]),bvc.value[i-1]/2) for i in listInd if bvl2.value[i-1]!=None]\n",
    "    #add up the language confidences/weights\n",
    "    accumLangConf=np.zeros(numLangTot)\n",
    "    for k,v in langConf:\n",
    "        accumLangConf[k]+=v\n",
    "\n",
    "    return accumLangConf\n",
    "\n",
    "#create sparse vectors\n",
    "def weightVectors(nonSplit):\n",
    "    #I ignore frequencies of constituents - only care about presence,\n",
    "    #extract word indices:\n",
    "    splitInfo=splitIntoPartsFN(nonSplit)\n",
    "    listSingleInd = [int(s) for s in splitInfo[2]]\n",
    "\n",
    "    accLanCon = getAccumLangConf(listSingleInd)\n",
    "\n",
    "    return Vectors.sparse(numLangTot, {key:val for key,val in [(k,v) for k,v in enumerate(accLanCon) if v>0]})\n",
    "\n",
    "#import pandas as pd\n",
    "import re\n",
    "\n",
    "wv_data = raw_data_train.filter(lambda x: re.search('^TR.*', x)).map(weightVectors).filter(lambda x:len(x.values)>0)\n",
    "vec_lang_sparse=sc.runJob(wv_data, lambda part: [x for x in part])\n",
    "\n",
    "#winningNums=[ve.indices[np.argmax(ve.values)] for i,ve in enumerate(vec_lang_sparse) if len(ve.values)>0]\n",
    "#winningNums=np.asarray([ve.indices[np.argmax(ve.values)] for i,ve in enumerate(vec_lang_sparse) if len(ve.values)>0])\n",
    "winningNums=np.asarray([ve.indices[np.argmax(ve.values)] for ve in vec_lang_sparse if len(ve.values)>0])\n",
    "\n",
    "'''\n",
    "#writing down winning langs to file:\n",
    "fname=xtraDataPath+\"lyricsLangTrain.txt\"\n",
    "with open(fname, \"w+\", encoding=\"utf-8\") as f:\n",
    "    for k in range(len(winningNums)):\n",
    "        str2Write=str(winningNums[k])+','\\\n",
    "        +langNum2CodeDict[winningNums[k]]+'\\n'\n",
    "        f.write(str2Write)\n",
    "'''\n"
   ]
  },
  {
   "cell_type": "code",
   "execution_count": 17,
   "metadata": {},
   "outputs": [],
   "source": [
    "#investigating if the winner has competition by dividing second biggest by biggest vote\n",
    "#essentially testing the assumption that whole songs tend to be in one language:\n",
    "\n",
    "secondByfirst=np.asarray([oneandtwo[0]/(1e-6+oneandtwo[1]) for oneandtwo in [np.partition(ve,-2)[-2:] for ve in vec_lang_sparse if len(ve.values)>0]])\n"
   ]
  },
  {
   "cell_type": "markdown",
   "metadata": {},
   "source": [
    "Evaluation\n",
    "\n",
    "Illustration of language frequencies in the data:\n"
   ]
  },
  {
   "cell_type": "code",
   "execution_count": 19,
   "metadata": {},
   "outputs": [
    {
     "data": {
      "image/png": "[encoded data removed]",
      "text/plain": [
       "<Figure size 432x288 with 1 Axes>"
      ]
     },
     "metadata": {
      "needs_background": "light"
     },
     "output_type": "display_data"
    }
   ],
   "source": [
    "\n",
    "from matplotlib import pyplot as plt\n",
    "\n",
    "n_bins = 20\n",
    "\n",
    "fig = plt.figure()\n",
    "ax = fig.add_subplot(1, 1, 1)\n",
    "\n",
    "ax.hist(secondByfirst, bins=n_bins)\n",
    "#ax.hist(secondByfirst, bins=n_bins,cumulative=True)\n",
    "#ax.set_yscale('log')\n",
    "plt.show()\n",
    "#plt.savefig(xtraDataPath+'2nd by 1st histogram.png')"
   ]
  },
  {
   "cell_type": "markdown",
   "metadata": {},
   "source": [
    "Fig1. The majority vote procedure used to assign language to song is well motivated - it is based on the assumption that lyrics tend to be in one language only. This plot shows second biggest vote divided by biggest vote for all songs in the training data and as can be seen the biggest vote tends to be much bigger.\n"
   ]
  },
  {
   "cell_type": "code",
   "execution_count": 27,
   "metadata": {},
   "outputs": [
    {
     "data": {
      "image/png": "[encoded data removed]",
      "text/plain": [
       "<Figure size 432x288 with 1 Axes>"
      ]
     },
     "metadata": {
      "needs_background": "light"
     },
     "output_type": "display_data"
    }
   ],
   "source": [
    "#investigating if the winner has competition by dividing second biggest by biggest vote\n",
    "#also; removing English which is the dominant language from the statistics\n",
    "#to see what happens\n",
    "#essentially testing the assumption that whole songs tend to be in one language:\n",
    "\n",
    "secondByfirst_nonEnglish=np.asarray([oneandtwo[0]/(1e-6+oneandtwo[1]) for oneandtwo in [np.partition(ve,-2)[-2:] for ve in vec_lang_sparse if len(ve.values)>0 and np.argmax(ve)!=20]])\n",
    "\n",
    "n_bins = 20\n",
    "\n",
    "fig = plt.figure()\n",
    "ax = fig.add_subplot(1, 1, 1)\n",
    "\n",
    "ax.hist(secondByfirst_nonEnglish, bins=n_bins)\n",
    "#ax.hist(secondByfirst, bins=n_bins,cumulative=True)\n",
    "#ax.set_yscale('log')\n",
    "plt.savefig(xtraDataPath+'2nd by 1st histogram non-English.png')\n",
    "plt.show()\n",
    "#plt.savefig(xtraDataPath+'2nd by 1st histogram non-English.png')"
   ]
  },
  {
   "cell_type": "markdown",
   "metadata": {},
   "source": [
    "Fig2. This plot shows second biggest vote divided by biggest vote but excluding those where English – the dominnt language with the most words in the dictionary. As can be seen the biggest vote still tends to be significantly bigger than the second biggest.\n"
   ]
  },
  {
   "cell_type": "code",
   "execution_count": 17,
   "metadata": {},
   "outputs": [
    {
     "name": "stdout",
     "output_type": "stream",
     "text": [
      "3\n",
      "ar\n",
      "Arabic \n",
      "6\n",
      "     \n",
      "5\n",
      "az\n",
      "Azerbaijani \n",
      "1\n",
      "     \n",
      "9\n",
      "bs\n",
      "Bosnian \n",
      "14\n",
      "     \n",
      "13\n",
      "zh-CN\n",
      "Chinese(Simplified) \n",
      "1\n",
      "     \n",
      "17\n",
      "cs\n",
      "Czech \n",
      "1\n",
      "     \n",
      "18\n",
      "da\n",
      "Danish \n",
      "32\n",
      "     \n",
      "19\n",
      "nl\n",
      "Dutch \n",
      "515\n",
      "     \n",
      "20\n",
      "en\n",
      "English \n",
      "179463\n",
      "     \n",
      "23\n",
      "fi\n",
      "Finnish \n",
      "920\n",
      "     \n",
      "24\n",
      "fr\n",
      "French \n",
      "5241\n",
      "     \n",
      "28\n",
      "de\n",
      "German \n",
      "4345\n",
      "     \n",
      "29\n",
      "el\n",
      "Greek \n",
      "2\n",
      "     \n",
      "35\n",
      "hi\n",
      "Hindi \n",
      "1\n",
      "     \n",
      "37\n",
      "hu\n",
      "Hungarian \n",
      "108\n",
      "     \n",
      "40\n",
      "id\n",
      "Indonesian \n",
      "5\n",
      "     \n",
      "42\n",
      "it\n",
      "Italian \n",
      "2572\n",
      "     \n",
      "43\n",
      "ja\n",
      "Japanese \n",
      "17\n",
      "     \n",
      "49\n",
      "ku\n",
      "Kurdish \n",
      "3\n",
      "     \n",
      "54\n",
      "lt\n",
      "Lithuanian \n",
      "1\n",
      "     \n",
      "58\n",
      "ms\n",
      "Malay \n",
      "1\n",
      "     \n",
      "66\n",
      "no\n",
      "Norwegian \n",
      "27\n",
      "     \n",
      "70\n",
      "pl\n",
      "Polish \n",
      "47\n",
      "     \n",
      "71\n",
      "pt\n",
      "Portuguese(Portugal,Brazil) \n",
      "2912\n",
      "     \n",
      "73\n",
      "ro\n",
      "Romanian \n",
      "23\n",
      "     \n",
      "74\n",
      "ru\n",
      "Russian \n",
      "2\n",
      "     \n",
      "83\n",
      "sl\n",
      "Slovenian \n",
      "1\n",
      "     \n",
      "85\n",
      "es\n",
      "Spanish \n",
      "13176\n",
      "     \n",
      "88\n",
      "sv\n",
      "Swedish \n",
      "1023\n",
      "     \n",
      "89\n",
      "tl\n",
      "Tagalog(Filipino) \n",
      "17\n",
      "     \n",
      "94\n",
      "tr\n",
      "Turkish \n",
      "39\n",
      "     \n",
      "98\n",
      "vi\n",
      "Vietnamese \n",
      "2\n",
      "     \n"
     ]
    }
   ],
   "source": [
    "#Motivating a removal of infrequent languages:\n",
    "\n",
    "#this many of each:\n",
    "tots=[]\n",
    "langsUsed=[]\n",
    "for i in list(set(winningNums)):\n",
    "     print(i)\n",
    "     print(langNum2CodeDict[i])\n",
    "     print(langCode2FullLang[langNum2CodeDict[i]])\n",
    "     print((winningNums==i).sum())\n",
    "     tots.append((winningNums==i).sum())\n",
    "     langsUsed.append(langCode2FullLang[langNum2CodeDict[i]])\n",
    "     print('     ')\n"
   ]
  },
  {
   "cell_type": "code",
   "execution_count": 23,
   "metadata": {},
   "outputs": [
    {
     "data": {
      "image/png": "[encoded data removed]",
      "text/plain": [
       "<Figure size 432x288 with 1 Axes>"
      ]
     },
     "metadata": {
      "needs_background": "light"
     },
     "output_type": "display_data"
    }
   ],
   "source": [
    "#a little visualization:\n",
    "\n",
    "from matplotlib import pyplot as plt\n",
    "\n",
    "'''\n",
    "fig = plt.figure()\n",
    "ax = fig.add_subplot(1, 1, 1)\n",
    "ax.plot(np.asarray(list(range(len(tots)))),np.asarray(tots), color='blue', lw=2)\n",
    "ax.plot(np.asarray(list(range(len(tots)))),np.asarray(tots), 'r*')\n",
    "ax.set_yscale('log')\n",
    "for i,(t,l) in enumerate(zip(tots,langsUsed)):\n",
    "    ax.annotate(l, xy=(i,t)) # <--\n",
    "plt.show()\n",
    "'''\n",
    "fig = plt.figure()\n",
    "ax = fig.add_subplot(1, 1, 1)\n",
    "ax.bar(np.arange(len(tots))-0.5,np.asarray(tots), 1)\n",
    "ax.set_yscale('log')\n",
    "for i,(t,l) in enumerate(zip(tots,langsUsed)):\n",
    "    ax.annotate(l, xy=(i-1,t*1.03)) # <--\n",
    "#plt.savefig(xtraDataPath+'language histogram.png')\n",
    "plt.show()\n"
   ]
  },
  {
   "cell_type": "markdown",
   "metadata": {},
   "source": [
    "Fig3. English dominates but a few other languages make significant contributions to the data set"
   ]
  },
  {
   "cell_type": "code",
   "execution_count": 19,
   "metadata": {},
   "outputs": [
    {
     "name": "stdout",
     "output_type": "stream",
     "text": [
      "bs\n",
      "da\n",
      "nl\n",
      "en\n",
      "fi\n",
      "fr\n",
      "de\n",
      "hu\n",
      "it\n",
      "ja\n",
      "no\n",
      "pl\n",
      "pt\n",
      "ro\n",
      "es\n",
      "sv\n",
      "tl\n",
      "tr\n"
     ]
    }
   ],
   "source": [
    "#thres=10\n",
    "#I will choose to remove languages with less than this many representatives:\n",
    "thres=8\n",
    "lInds2use=[i for i in list(set(winningNums)) if (winningNums==i).sum()>=thres]\n",
    "numClasses2use=len(lInds2use)\n",
    "\n",
    "labNDict={v:i for i,v in enumerate(lInds2use)}\n",
    "labNDictInv={v:k for k,v in zip(labNDict.keys(),labNDict.values())}\n",
    "\n",
    "#these remain:\n",
    "for i in range(numClasses2use):\n",
    "    print(langNum2CodeDict[labNDictInv[i]])\n",
    "\n"
   ]
  },
  {
   "cell_type": "code",
   "execution_count": 20,
   "metadata": {},
   "outputs": [
    {
     "data": {
      "text/plain": [
       "210518"
      ]
     },
     "execution_count": 20,
     "metadata": {},
     "output_type": "execute_result"
    }
   ],
   "source": [
    "#set([labNDict.get(v,-1) for v in winningNums])\n",
    "\n",
    "lInds2useLOOKUP = [labNDict.get(i,-1) for i in range(numLangTot)]\n",
    "#for more efficient use:\n",
    "indLU = sc.broadcast(lInds2useLOOKUP)\n",
    "\n",
    "\n",
    "#this many in the train set before weeding out less frequent languages\n",
    "hlp=list(set(winningNums))\n",
    "hlp.sort()\n",
    "ws=[(i,(winningNums==i).sum()) for i in hlp]\n",
    "np.asarray([s[1] for s in ws]).sum()\n"
   ]
  },
  {
   "cell_type": "code",
   "execution_count": 21,
   "metadata": {},
   "outputs": [
    {
     "data": {
      "text/plain": [
       "210491"
      ]
     },
     "execution_count": 21,
     "metadata": {},
     "output_type": "execute_result"
    }
   ],
   "source": [
    "from pyspark.mllib.regression import LabeledPoint\n",
    "from pyspark.mllib.linalg import SparseVector\n",
    "\n",
    "#function I need:\n",
    "def parseLabPs(nonSplit):\n",
    "    #I ignore frequencies of constituents - only care about presence,\n",
    "    #extract word indices:\n",
    "    splitInfo=splitIntoPartsFN(nonSplit)\n",
    "    listSingleInd = [int(s) for s in splitInfo[2]]\n",
    "    #get the languages and their coresponging confidence values\n",
    "    #remember that there can be 2 languages that need to share\n",
    "    accLanCon = getAccumLangConf(listSingleInd)\n",
    "\n",
    "    #encode sparsely accumulated confidence per language\n",
    "    accLanConMax=indLU.value[int(np.argmax(accLanCon))] if accLanCon.sum()>0 else -1\n",
    "    return LabeledPoint(accLanConMax, SparseVector(numWords, [i-1 for i in listSingleInd], len(listSingleInd)*[1.0/len(listSingleInd)]))\n",
    "\n",
    "#now parsing out the ones that correspong to big enough languages:\n",
    "parsedDataTrain = raw_data_train.filter(lambda x: re.search('^TR.*', x)).map(parseLabPs).filter(lambda x:x.label>-1)\n",
    "labp=sc.runJob(parsedDataTrain, lambda part: [x for x in part])\n",
    "winningNums2=np.asarray([int(l.label) for l in labp])\n",
    "\n",
    "#this many data after removing infrequent languages\n",
    "hlp2=list(set(winningNums2))\n",
    "hlp2.sort()\n",
    "ws2=[(i,(winningNums2==i).sum()) for i in hlp2]\n",
    "np.asarray([s[1] for s in ws2]).sum()\n",
    "\n"
   ]
  },
  {
   "cell_type": "code",
   "execution_count": 22,
   "metadata": {},
   "outputs": [
    {
     "name": "stdout",
     "output_type": "stream",
     "text": [
      "Bosnian \n",
      "Danish \n",
      "Dutch \n",
      "English \n",
      "Finnish \n",
      "French \n",
      "German \n",
      "Hungarian \n",
      "Italian \n",
      "Japanese \n",
      "Norwegian \n",
      "Polish \n",
      "Portuguese(Portugal,Brazil) \n",
      "Romanian \n",
      "Spanish \n",
      "Swedish \n",
      "Tagalog(Filipino) \n",
      "Turkish \n"
     ]
    },
    {
     "data": {
      "text/plain": [
       "'\\nfname=xtraDataPath+\"MostFreqLangs2Use.txt\"\\nwith open(fname, \"w+\", encoding=\"utf-8\") as f:\\n    for i in range(numClasses2use):\\n        str2Write=str(i)+\\',\\'+langCode2FullLang[langNum2CodeDict[labNDictInv[i]]]+\\'\\n\\'\\n        f.write(str2Write)\\n'"
      ]
     },
     "execution_count": 22,
     "metadata": {},
     "output_type": "execute_result"
    }
   ],
   "source": [
    "#look which remain spelled out properly:\n",
    "\n",
    "for i in range(numClasses2use):\n",
    "    print(langCode2FullLang[langNum2CodeDict[labNDictInv[i]]])\n",
    "\n",
    "'''\n",
    "fname=xtraDataPath+\"MostFreqLangs2Use.txt\"\n",
    "with open(fname, \"w+\", encoding=\"utf-8\") as f:\n",
    "    for i in range(numClasses2use):\n",
    "        str2Write=str(i)+','+langCode2FullLang[langNum2CodeDict[labNDictInv[i]]]+'\\n'\n",
    "        f.write(str2Write)\n",
    "'''"
   ]
  },
  {
   "cell_type": "code",
   "execution_count": 24,
   "metadata": {},
   "outputs": [
    {
     "name": "stdout",
     "output_type": "stream",
     "text": [
      "Training Error = 0.003363564237900908\n"
     ]
    }
   ],
   "source": [
    "\n",
    "#now it's time to make a simple supervised model\n",
    "# to use to get a sense of how good a simple model can be\n",
    "#at saying song language\n",
    "#later I'll cluster the same data - how well will it\n",
    "#find this same structure that the simple logistic regression finds?\n",
    "from pyspark.mllib.classification import LogisticRegressionWithLBFGS, LogisticRegressionModel\n",
    "\n",
    "parsedDataTest = raw_data_test.filter(lambda x: re.search('^TR.*', x)).map(parseLabPs).filter(lambda x:x.label >-1)\n",
    "#parsedDataTrain = raw_data_train.filter(lambda x: re.search('^TR.*', x)).map(parseLabPs).filter(lambda x:x.label>-1)\n",
    "\n",
    "parsedDataTrain.cache()\n",
    "# Build the model - will use a little regularization\n",
    "#to avoid overfitting. 0.1 seems remove most overfitting\n",
    "#as error is similar size on train and test sets\n",
    "\n",
    "modellogregregu = LogisticRegressionWithLBFGS.train(parsedDataTrain,numClasses=numClasses2use,regType='l2',regParam=0.1)\n",
    "\n",
    "# Evaluating the model on training data\n",
    "labelsAndPreds = parsedDataTrain.map(lambda p: (p.label, modellogregregu.predict(p.features)))\n",
    "trainErr = labelsAndPreds.filter(lambda lp: lp[0] != lp[1]).count() / float(parsedDataTrain.count())\n",
    "print(\"Training Error = \" + str(trainErr))\n",
    "\n",
    "#=0.0\n",
    "#Training Error = 0.003311305471492843 when regul\n"
   ]
  },
  {
   "cell_type": "code",
   "execution_count": 25,
   "metadata": {},
   "outputs": [
    {
     "name": "stdout",
     "output_type": "stream",
     "text": [
      "Test Error = 0.004605578276408386\n"
     ]
    }
   ],
   "source": [
    "#and now testset:\n",
    "\n",
    "parsedDataTest.cache()\n",
    "# Evaluating the model on test data\n",
    "labelsAndPreds = parsedDataTest.map(lambda p: (p.label, modellogregregu.predict(p.features)))\n",
    "testErr = labelsAndPreds.filter(lambda lp: lp[0] != lp[1]).count() / float(parsedDataTest.count())\n",
    "print(\"Test Error = \" + str(testErr))\n",
    "#Out[9]: 0.006668877344239343\n",
    "#Test Error = 0.00467926752883092 #regul\n"
   ]
  },
  {
   "cell_type": "code",
   "execution_count": 26,
   "metadata": {},
   "outputs": [
    {
     "name": "stdout",
     "output_type": "stream",
     "text": [
      "1238  Spanish to Spanish \n",
      "1  German to Spanish \n",
      "1  French to Italian \n",
      "3  Portuguese(Portugal,Brazil) to English \n",
      "2  Tagalog(Filipino) to English \n",
      "2  Italian to English \n",
      "281  Finnish to Finnish \n",
      "586  Italian to Italian \n",
      "9  English to Dutch \n",
      "23107  English to English \n",
      "7  Polish to English \n",
      "1  Hungarian to English \n",
      "14  English to Finnish \n",
      "18  English to French \n",
      "1  Turkish to Turkish \n",
      "314  Portuguese(Portugal,Brazil) to Portuguese(Portugal,Brazil) \n",
      "1  English to German \n",
      "16  Hungarian to Hungarian \n",
      "136  Dutch to Dutch \n",
      "30  English to Italian \n",
      "2  Portuguese(Portugal,Brazil) to Spanish \n",
      "1  German to English \n",
      "2  Norwegian to English \n",
      "1  Spanish to English \n",
      "3  Polish to Polish \n",
      "608  German to German \n",
      "1  English to Portuguese(Portugal,Brazil) \n",
      "14  English to Spanish \n",
      "1  Polish to Spanish \n",
      "116  Swedish to Swedish \n",
      "5  Turkish to English \n",
      "3  French to English \n",
      "2  English to Swedish \n",
      "2  Japanese to English \n",
      "1  Danish to English \n",
      "1  Romanian to English \n",
      "610  French to French \n"
     ]
    }
   ],
   "source": [
    "\n",
    "#let's have a look at which languages get confused with each other:\n",
    "labNpredInds2LinInd = lambda l,p,ncl:ncl*l+p\n",
    "linInd2labNpredInds = lambda li,ncl:(int(np.floor(li/ncl)),np.mod(li,ncl))\n",
    "lpElems = labelsAndPreds.groupBy(lambda lp: labNpredInds2LinInd(lp[0],lp[1],numClasses2use))#.count() #/ float(parsedDataTest.count())\n",
    "\n",
    "confList=[]\n",
    "for i,cf in enumerate(lpElems.collect()):\n",
    "    confList.append((len([c for c in cf[1]]),linInd2labNpredInds(int(cf[0]),numClasses2use)))\n",
    "\n",
    "for cfl in confList:\n",
    "    print(str(cfl[0])+\\\n",
    "    #print(str(cfl[0]/nexInTest)+\\\n",
    "    '  '+langCode2FullLang[langNum2CodeDict[labNDictInv[cfl[1][0]]]]+\\\n",
    "    'to '+langCode2FullLang[langNum2CodeDict[labNDictInv[cfl[1][1]]]])\n",
    "\n",
    "#English is by far the largest language and most errors\n",
    "#are between English and another language\n",
    "#besides that there are a few confusions between the latin language\n",
    "#Spanish, Portugeese, Italian and French which is not surprising\n",
    "#given their similarity\n",
    "#+1 polish and 1 german to spanish (the 2nd largest language)"
   ]
  },
  {
   "cell_type": "code",
   "execution_count": 27,
   "metadata": {},
   "outputs": [
    {
     "data": {
      "text/plain": [
       "0.9578250621629004"
      ]
     },
     "execution_count": 27,
     "metadata": {},
     "output_type": "execute_result"
    }
   ],
   "source": [
    "#now given this great supervised model which will be challenging\n",
    "#to match with a clustering algorithm\n",
    "#how high does it get on a clustering measure?\n",
    "from sklearn import metrics\n",
    "\n",
    "ls_tst = parsedDataTest.map(lambda p: p.label).collect()\n",
    "ps_tst = parsedDataTest.map(lambda p: modellogregregu.predict(p.features)).collect()\n",
    "\n",
    "metrics.adjusted_mutual_info_score(ls_tst,ps_tst)\n",
    "#Out[19]: 0.9393770913689595\n",
    "#Out[7]: 0.9389128244827115\n",
    "#Out[10]: 0.9365355912049723\n",
    "# Out[28]: 0.9365355912049723\n",
    "# Out[28]: 0.9573686078169512 #regul\n",
    "#Out[46]: 0.9584682946581857 #regul\n",
    "\n",
    "#so if clustering ever manages 0.95 then it  is really doing a GREAT job!\n",
    "#realistically; how close can it get?\n"
   ]
  },
  {
   "cell_type": "code",
   "execution_count": 28,
   "metadata": {},
   "outputs": [
    {
     "data": {
      "text/plain": [
       "0.9660472467519801"
      ]
     },
     "execution_count": 28,
     "metadata": {},
     "output_type": "execute_result"
    }
   ],
   "source": [
    "ls_tr = parsedDataTrain.map(lambda p: p.label).collect()\n",
    "#ps_tr = parsedDataTrain.map(lambda p: modellogreg.predict(p.features)).collect()\n",
    "ps_tr = parsedDataTrain.map(lambda p: modellogregregu.predict(p.features)).collect()\n",
    "\n",
    "metrics.adjusted_mutual_info_score(ls_tr,ps_tr)\n",
    "#Out[19]: 1.0\n",
    "#Out[35]: 0.9666974988900423 #regu\n",
    "#Out[35]: 0.9664790935842319 #regu\n"
   ]
  },
  {
   "cell_type": "code",
   "execution_count": 29,
   "metadata": {},
   "outputs": [],
   "source": [
    "\n",
    "from pyspark.mllib.clustering import KMeans, KMeansModel\n",
    "\n",
    "#now peel off the class and use the feature only:\n",
    "featuresTrain = parsedDataTrain.map(lambda p: p.features)\n",
    "featuresTrain.cache()\n",
    "\n",
    "# Build the model (cluster the data)\n",
    "#doing old fashioned kmeans with no special init first:\n",
    "clusters = KMeans.train(featuresTrain, numClasses2use, maxIterations=10, initializationMode=\"random\")\n",
    "#clusters = KMeans.train(featuresTrain, numClasses2use, maxIterations=10, initializationMode= \"k-means||\", initializationSteps= 5)\n",
    "#clusters = KMeans.train(featuresTrain, numClasses2use, maxIterations=10, initialModel = KMeansModel([tuple(centDict[i]) for i in centDict]) )\n"
   ]
  },
  {
   "cell_type": "code",
   "execution_count": 30,
   "metadata": {},
   "outputs": [
    {
     "data": {
      "text/plain": [
       "0.3321143772056966"
      ]
     },
     "execution_count": 30,
     "metadata": {},
     "output_type": "execute_result"
    }
   ],
   "source": [
    "\n",
    "#evaluate clustering:\n",
    "ls_tr = parsedDataTrain.map(lambda p: p.label).collect()\n",
    "pcs_tr = parsedDataTrain.map(lambda p: clusters.predict(p.features)).collect()\n",
    "\n",
    "metrics.adjusted_mutual_info_score(ls_tr,pcs_tr)\n",
    "#Out[13]: 0.3670456909686498 #maxIterations=5, initializationMode=\"random\")\n",
    "#Out[16]: 0.3640903926470229 #maxIterations=10, initializationMode=\"random\")\n",
    "#Out[16]: 0.35939303923246807 #maxIterations=10, initializationMode=\"random\")\n",
    "\n",
    "#Out[15]: 0.3966480166188081 maxIterations=10, initializationMode= \"k-means||\", initializationSteps= 5)\n",
    "#Out[17]: 0.5481233780781543  maxIterations=10, initializationMode= \"k-means||\", initializationSteps= 5)\n",
    "#Out[13]: 0.7817683131779442  maxIterations=10, initializationMode= \"k-means||\", initializationSteps= 5)\n",
    "#Out[16]: 0.6577106923265921  maxIterations=10, initializationMode= \"k-means||\", initializationSteps= 5)\n",
    "#Out[36]: 0.41853894064265934  maxIterations=10, initializationMode= \"k-means||\", initializationSteps= 5)\n",
    "#Out[37]: 0.4104475203596721  maxIterations=10, initializationMode= \"k-means||\", initializationSteps= 5)\n",
    "\n",
    "#Out[37]: 0.8836244056125339 maxIterations=10, initialModel = KMeansModel([tuple(centDict[i]) for i in centDict])\n",
    "#Out[37]: 0.8840288256682206 maxIterations=10, initialModel = KMeansModel([tuple(centDict[i]) for i in centDict])\n",
    "\n"
   ]
  },
  {
   "cell_type": "code",
   "execution_count": 32,
   "metadata": {},
   "outputs": [
    {
     "data": {
      "text/plain": [
       "0.3759636157697285"
      ]
     },
     "execution_count": 32,
     "metadata": {},
     "output_type": "execute_result"
    }
   ],
   "source": [
    "#do kmean++ ;a better init!\n",
    "clusters = KMeans.train(featuresTrain, numClasses2use, maxIterations=10, initializationMode= \"k-means||\", initializationSteps= 5)\n",
    "#clusters = KMeans.train(featuresTrain, numClasses2use, maxIterations=10, initialModel = KMeansModel([tuple(centDict[i]) for i in centDict]) )\n",
    "pcs_tr = parsedDataTrain.map(lambda p: clusters.predict(p.features)).collect()\n",
    "\n",
    "metrics.adjusted_mutual_info_score(ls_tr,pcs_tr)\n"
   ]
  },
  {
   "cell_type": "code",
   "execution_count": 33,
   "metadata": {},
   "outputs": [
    {
     "name": "stdout",
     "output_type": "stream",
     "text": [
      "0\n",
      "1\n",
      "2\n",
      "3\n",
      "4\n",
      "5\n",
      "6\n",
      "7\n",
      "8\n",
      "9\n",
      "10\n",
      "11\n",
      "12\n",
      "13\n",
      "14\n",
      "15\n",
      "16\n",
      "17\n",
      "18\n",
      "19\n",
      "0.2659244081025899\n",
      "0.3605807371776796\n",
      "0.4296160429345266\n",
      "0.3370748439961817\n",
      "0.37191436911416953\n",
      "0.39534489304014614\n",
      "0.045472922152815946\n"
     ]
    },
    {
     "data": {
      "text/plain": [
       "'\\n0.3316730542279839\\n0.38409542814286557\\n0.41446731401490056\\n0.369600456440365\\n0.3894647503075047\\n0.40070041241094534\\n0.022369174116231853\\n'"
      ]
     },
     "execution_count": 33,
     "metadata": {},
     "output_type": "execute_result"
    }
   ],
   "source": [
    "nRuns=20\n",
    "resRandom=[]\n",
    "for i in range(nRuns):\n",
    "    print(i)\n",
    "    clusters = KMeans.train(featuresTrain, numClasses2use, maxIterations=10, initializationMode=\"random\")\n",
    "    ls_tr = parsedDataTrain.map(lambda p: p.label).collect()\n",
    "    pcs_tr = parsedDataTrain.map(lambda p: clusters.predict(p.features)).collect()\n",
    "    resRandom.append(metrics.adjusted_mutual_info_score(ls_tr,pcs_tr))\n",
    "\n",
    "print(np.asarray(resRandom).min())\n",
    "print(np.asarray(resRandom).mean())\n",
    "print(np.asarray(resRandom).max())\n",
    "print(np.percentile(np.asarray(resRandom),25))\n",
    "print(np.percentile(np.asarray(resRandom),50))\n",
    "print(np.percentile(np.asarray(resRandom),75))\n",
    "print(np.asarray(resRandom).std())\n",
    "'''\n",
    "0.3316730542279839\n",
    "0.38409542814286557\n",
    "0.41446731401490056\n",
    "0.369600456440365\n",
    "0.3894647503075047\n",
    "0.40070041241094534\n",
    "0.022369174116231853\n",
    "'''"
   ]
  },
  {
   "cell_type": "code",
   "execution_count": 34,
   "metadata": {},
   "outputs": [
    {
     "name": "stdout",
     "output_type": "stream",
     "text": [
      "0\n",
      "1\n",
      "2\n",
      "3\n",
      "4\n",
      "5\n",
      "6\n",
      "7\n",
      "8\n",
      "9\n",
      "10\n",
      "11\n",
      "12\n",
      "13\n",
      "14\n",
      "15\n",
      "16\n",
      "17\n",
      "18\n",
      "19\n",
      "0.36260549652039753\n",
      "0.49183112741932644\n",
      "0.7761617163831116\n",
      "0.4062271061718571\n",
      "0.4438086436219226\n",
      "0.5616959690211024\n",
      "0.12102880345561512\n"
     ]
    },
    {
     "data": {
      "text/plain": [
       "'0\\n.33065672035506466\\n0.4780506842768837\\n0.7092094870396514\\n0.3925413633663136\\n0.4574918046878703\\n0.5401233077411065\\n0.10163666615298514\\n'"
      ]
     },
     "execution_count": 34,
     "metadata": {},
     "output_type": "execute_result"
    }
   ],
   "source": [
    "nRuns=20\n",
    "resPluPlu=[]\n",
    "for i in range(nRuns):\n",
    "    print(i)\n",
    "    clusters = KMeans.train(featuresTrain, numClasses2use, maxIterations=10, initializationMode= \"k-means||\", initializationSteps= 5)\n",
    "    ls_tr = parsedDataTrain.map(lambda p: p.label).collect()\n",
    "    pcs_tr = parsedDataTrain.map(lambda p: clusters.predict(p.features)).collect()\n",
    "    resPluPlu.append(metrics.adjusted_mutual_info_score(ls_tr,pcs_tr))\n",
    "\n",
    "print(np.asarray(resPluPlu).min())\n",
    "print(np.asarray(resPluPlu).mean())\n",
    "print(np.asarray(resPluPlu).max())\n",
    "print(np.percentile(np.asarray(resPluPlu),25))\n",
    "print(np.percentile(np.asarray(resPluPlu),50))\n",
    "print(np.percentile(np.asarray(resPluPlu),75))\n",
    "print(np.asarray(resPluPlu).std())\n",
    "'''0\n",
    ".33065672035506466\n",
    "0.4780506842768837\n",
    "0.7092094870396514\n",
    "0.3925413633663136\n",
    "0.4574918046878703\n",
    "0.5401233077411065\n",
    "0.10163666615298514\n",
    "'''"
   ]
  },
  {
   "cell_type": "code",
   "execution_count": 35,
   "metadata": {},
   "outputs": [],
   "source": [
    "\n",
    "#expect I can hijack \"clusters-model\" (clusters.centers[0].shape)\n",
    "# and init centers (orclustercenters???) as i want\n",
    "#\"initialModel\" input parameter\n",
    "#initialModel = KMeansModel([(-1000.0,-1000.0),(5.0,5.0),(1000.0,1000.0)]))\n",
    "\n",
    "\n",
    "def createCombiner(tpl):\n",
    "    return (tpl[0], 1)\n",
    "\n",
    "def mergeValue(accumulator, element):\n",
    "    return (accumulator[0] + element[0], accumulator[1] + 1)\n",
    "\n",
    "def mergeCombiner(accumulator1, accumulator2):\n",
    "    return (accumulator1[0] + accumulator2[0], accumulator1[1] + accumulator2[1])\n",
    "\n",
    "classWordCenters=parsedDataTrain.map(lambda p:(p.label,(Vectors.dense(p.features),0))).combineByKey(createCombiner, mergeValue, mergeCombiner).map(lambda t: (t[0], t[1][0]/t[1][1])).collect()\n",
    "\n",
    "#seems this will work but not happy to make dense!!\n",
    "#can i add sparse?\n",
    "\n",
    "'''\n",
    "fname=xtraDataPath+\"MostFreqLangsCenteres.txt\"\n",
    "with open(fname, \"w+\", encoding=\"utf-8\") as f:\n",
    "    for i,cent in enumerate(classWordCenters):\n",
    "        str2Write=str(int(cent[0]))#+','\n",
    "        for elem in cent[1]:\n",
    "            str2Write += ','+str(elem)#+','\n",
    "        str2Write+='\\n'\n",
    "        f.write(str2Write)\n",
    "'''"
   ]
  },
  {
   "cell_type": "code",
   "execution_count": 36,
   "metadata": {},
   "outputs": [
    {
     "name": "stdout",
     "output_type": "stream",
     "text": [
      "0\n",
      "1\n",
      "2\n",
      "3\n",
      "4\n",
      "5\n",
      "6\n",
      "7\n",
      "8\n",
      "9\n",
      "10\n",
      "11\n",
      "12\n",
      "13\n",
      "14\n",
      "15\n",
      "16\n",
      "17\n"
     ]
    },
    {
     "data": {
      "text/plain": [
       "0.8819073694200071"
      ]
     },
     "execution_count": 36,
     "metadata": {},
     "output_type": "execute_result"
    }
   ],
   "source": [
    "fname=xtraDataPath+\"MostFreqLangsCenteres.txt\"\n",
    "centDict={}\n",
    "with open(fname, \"r\") as readfile:\n",
    "    for cnt,line in enumerate(readfile):\n",
    "        print(cnt)\n",
    "        hlp=re.split(',',line)\n",
    "        centDict.update({int(hlp[0]):np.asarray([float(v) for v in hlp[1:]])})\n",
    "\n",
    "\n",
    "clusters = KMeans.train(featuresTrain, numClasses2use, maxIterations=10, initialModel = KMeansModel([tuple(centDict[i]) for i in centDict]) )\n",
    "\n",
    "\n",
    "#evaluate clustering:\n",
    "ls_tr = parsedDataTrain.map(lambda p: p.label).collect()\n",
    "pcs_tr = parsedDataTrain.map(lambda p: clusters.predict(p.features)).collect()\n",
    "\n",
    "metrics.adjusted_mutual_info_score(ls_tr,pcs_tr)\n"
   ]
  },
  {
   "cell_type": "code",
   "execution_count": 58,
   "metadata": {},
   "outputs": [],
   "source": [
    "sscc2save=np.zeros((len(clusters.centers),5000),dtype='float')\n",
    "for k in range(len(clusters.centers)):\n",
    "    sscc2save[k,:]=clusters.centers[k]\n",
    "\n",
    "fname=xtraDataPath+\"sscc.txt\"\n",
    "np.savetxt(fname,sscc2save)\n",
    "#np.loadtxt(fname)"
   ]
  },
  {
   "cell_type": "markdown",
   "metadata": {},
   "source": [
    "\n",
    "Results from multinomial logistic regression\n",
    "AMI between test set and multinomial logistic regressors prediction = 0.958\n",
    "AMI between train set and multinomial logistic regressors prediction = 0.966\n",
    "Results from 3 initializations of K-means\n",
    "Random old fashioned initialization\n",
    "Worst, average and best AMI on train set from 20 runs of old fashioned K-means = 0.265, 0.360, 0.430 \n",
    "K-means ++ initialization\n",
    "Worst, average and best AMI on train set from 20 runs of K-means++ = 0.363, 0.492, 0.776\n",
    "Oracle initialization\n",
    "AMI between train set and K-means initialized with the language means = 0.882\n"
   ]
  },
  {
   "cell_type": "markdown",
   "metadata": {},
   "source": [
    "Discussion and Future work\n",
    "\n",
    "I built a classifier to classify and ran a clustering algorithm to cluster musiXmatch songs. The results show that these tasks are doable with simple algorithms; it is a relatively simple problem probably because the assumption that most words in a song come from the same language hold well. Also; most words belong to one language only. This means that each word can be given a weight and the words that are present in a song summed up and the result indicates well which language the lyrics belong to like in the linear model called multinomial logistic regression. The words don’t need to be considered in non-linear combination, interactions between them do not need to be modelled. I evaluated k-means using different initializations and it is clear that k-means has the ability to find much of the latent structure of the language in the dataset if initialized the right way. It would be interesting to see what happens if compressing the data by projecting the features/words using for instance PCA and keeping perhaps a 200 dimensional representation – I hypothesize that the multinomial logistic regression would work less well because feature interactions would become more pronounced and possibly the same thing would make life harder for k-means. Also; after doing this work I found a paper doing a semi-supervised learning with k-means [4] and a GitHub page dedicated to languages in musiXmatch [5] so I would like to compare my approach to theirs.\n"
   ]
  },
  {
   "cell_type": "markdown",
   "metadata": {},
   "source": [
    "Conclusion and summary\n",
    "\n",
    "Unsupervised learning is a very unconstrained problem – the clustering algorithm, K-means I this case, is not given enough information to reliably retrieve the latent structure that I am interested in if run in its original formulation even when I as some sort of oracle run it with the correct number of clusters. Also; the original formulation retrieves very similar quality solutions every time. By employing K-means++ the solutions differ greatly each time and it would be possible to choose one that suits ones needs best. Given an excellent initialization K-means can deliver a good estimate at the latent structure I was after.\n",
    "\n",
    "References\n",
    "[1] Lloyd, Stuart P. (1957). \"Least square quantization in PCM\". Bell Telephone Laboratories Paper. Published in journal much later: Lloyd, Stuart P. (1982). \"Least squares quantization in PCM\" (PDF). IEEE Transactions on Information Theory. 28 (2): 129–137. CiteSeerX 10.1.1.131.1338\n",
    "[2] Malouf, Robert (2002). A comparison of algorithms for maximum entropy parameter estimation (PDF). Sixth Conf. on Natural Language Learning (CoNLL). pp. 49–55.\n",
    "[3] Arthur, D.; Vassilvitskii, S. (2007). \"k-means++: the advantages of careful seeding\" (PDF). Proceedings of the eighteenth annual ACM-SIAM symposium on Discrete algorithms. Society for Industrial and Applied Mathematics Philadelphia, PA, USA. pp. 1027–1035.\n",
    "[4] Jordan Yoder and Carey E. Priebe (2016). “Semi-supervised K-means++”. arXiv preprint arXiv:1602.00360v1\n"
   ]
  }
 ],
 "metadata": {
  "kernelspec": {
   "display_name": "Python 3",
   "language": "python",
   "name": "python3"
  },
  "language_info": {
   "codemirror_mode": {
    "name": "ipython",
    "version": 3
   },
   "file_extension": ".py",
   "mimetype": "text/x-python",
   "name": "python",
   "nbconvert_exporter": "python",
   "pygments_lexer": "ipython3",
   "version": "3.7.4"
  }
 },
 "nbformat": 4,
 "nbformat_minor": 2
}
